{
  "nbformat": 4,
  "nbformat_minor": 0,
  "metadata": {
    "colab": {
      "provenance": []
    },
    "kernelspec": {
      "name": "python3",
      "display_name": "Python 3"
    },
    "language_info": {
      "name": "python"
    },
    "accelerator": "GPU",
    "gpuClass": "standard",
    "widgets": {
      "application/vnd.jupyter.widget-state+json": {
        "7c9709db34bd4106b63e36b397b59fbc": {
          "model_module": "@jupyter-widgets/controls",
          "model_name": "HBoxModel",
          "model_module_version": "1.5.0",
          "state": {
            "_dom_classes": [],
            "_model_module": "@jupyter-widgets/controls",
            "_model_module_version": "1.5.0",
            "_model_name": "HBoxModel",
            "_view_count": null,
            "_view_module": "@jupyter-widgets/controls",
            "_view_module_version": "1.5.0",
            "_view_name": "HBoxView",
            "box_style": "",
            "children": [
              "IPY_MODEL_c7fd3e407c3e4f38afc0fc84e8a84c64",
              "IPY_MODEL_0e44038c77914789a9e7fce233c8720a",
              "IPY_MODEL_ad1c2a28ab3644ae9fbb13f43cf743b4"
            ],
            "layout": "IPY_MODEL_7f15d9c0ba054bf9af636c5d3538ac9c"
          }
        },
        "c7fd3e407c3e4f38afc0fc84e8a84c64": {
          "model_module": "@jupyter-widgets/controls",
          "model_name": "HTMLModel",
          "model_module_version": "1.5.0",
          "state": {
            "_dom_classes": [],
            "_model_module": "@jupyter-widgets/controls",
            "_model_module_version": "1.5.0",
            "_model_name": "HTMLModel",
            "_view_count": null,
            "_view_module": "@jupyter-widgets/controls",
            "_view_module_version": "1.5.0",
            "_view_name": "HTMLView",
            "description": "",
            "description_tooltip": null,
            "layout": "IPY_MODEL_2b8bf95a59434948b01d5d7c37489ea2",
            "placeholder": "​",
            "style": "IPY_MODEL_4a553e26d2cd41cc8d94be3c28badef9",
            "value": " 81%"
          }
        },
        "0e44038c77914789a9e7fce233c8720a": {
          "model_module": "@jupyter-widgets/controls",
          "model_name": "FloatProgressModel",
          "model_module_version": "1.5.0",
          "state": {
            "_dom_classes": [],
            "_model_module": "@jupyter-widgets/controls",
            "_model_module_version": "1.5.0",
            "_model_name": "FloatProgressModel",
            "_view_count": null,
            "_view_module": "@jupyter-widgets/controls",
            "_view_module_version": "1.5.0",
            "_view_name": "ProgressView",
            "bar_style": "",
            "description": "",
            "description_tooltip": null,
            "layout": "IPY_MODEL_fbf8c9b2eb52437b943698f7ae7592d9",
            "max": 2479,
            "min": 0,
            "orientation": "horizontal",
            "style": "IPY_MODEL_25d1d04e9a3049ed9ce01b79430a23a9",
            "value": 2013
          }
        },
        "ad1c2a28ab3644ae9fbb13f43cf743b4": {
          "model_module": "@jupyter-widgets/controls",
          "model_name": "HTMLModel",
          "model_module_version": "1.5.0",
          "state": {
            "_dom_classes": [],
            "_model_module": "@jupyter-widgets/controls",
            "_model_module_version": "1.5.0",
            "_model_name": "HTMLModel",
            "_view_count": null,
            "_view_module": "@jupyter-widgets/controls",
            "_view_module_version": "1.5.0",
            "_view_name": "HTMLView",
            "description": "",
            "description_tooltip": null,
            "layout": "IPY_MODEL_0ee9ca12d3ef46b7a7f265a53ea7b856",
            "placeholder": "​",
            "style": "IPY_MODEL_83b445f87f8946b8ad0cd68f207abc13",
            "value": " 2013/2479 [24:13&lt;05:36,  1.39it/s]"
          }
        },
        "7f15d9c0ba054bf9af636c5d3538ac9c": {
          "model_module": "@jupyter-widgets/base",
          "model_name": "LayoutModel",
          "model_module_version": "1.2.0",
          "state": {
            "_model_module": "@jupyter-widgets/base",
            "_model_module_version": "1.2.0",
            "_model_name": "LayoutModel",
            "_view_count": null,
            "_view_module": "@jupyter-widgets/base",
            "_view_module_version": "1.2.0",
            "_view_name": "LayoutView",
            "align_content": null,
            "align_items": null,
            "align_self": null,
            "border": null,
            "bottom": null,
            "display": null,
            "flex": null,
            "flex_flow": null,
            "grid_area": null,
            "grid_auto_columns": null,
            "grid_auto_flow": null,
            "grid_auto_rows": null,
            "grid_column": null,
            "grid_gap": null,
            "grid_row": null,
            "grid_template_areas": null,
            "grid_template_columns": null,
            "grid_template_rows": null,
            "height": null,
            "justify_content": null,
            "justify_items": null,
            "left": null,
            "margin": null,
            "max_height": null,
            "max_width": null,
            "min_height": null,
            "min_width": null,
            "object_fit": null,
            "object_position": null,
            "order": null,
            "overflow": null,
            "overflow_x": null,
            "overflow_y": null,
            "padding": null,
            "right": null,
            "top": null,
            "visibility": null,
            "width": null
          }
        },
        "2b8bf95a59434948b01d5d7c37489ea2": {
          "model_module": "@jupyter-widgets/base",
          "model_name": "LayoutModel",
          "model_module_version": "1.2.0",
          "state": {
            "_model_module": "@jupyter-widgets/base",
            "_model_module_version": "1.2.0",
            "_model_name": "LayoutModel",
            "_view_count": null,
            "_view_module": "@jupyter-widgets/base",
            "_view_module_version": "1.2.0",
            "_view_name": "LayoutView",
            "align_content": null,
            "align_items": null,
            "align_self": null,
            "border": null,
            "bottom": null,
            "display": null,
            "flex": null,
            "flex_flow": null,
            "grid_area": null,
            "grid_auto_columns": null,
            "grid_auto_flow": null,
            "grid_auto_rows": null,
            "grid_column": null,
            "grid_gap": null,
            "grid_row": null,
            "grid_template_areas": null,
            "grid_template_columns": null,
            "grid_template_rows": null,
            "height": null,
            "justify_content": null,
            "justify_items": null,
            "left": null,
            "margin": null,
            "max_height": null,
            "max_width": null,
            "min_height": null,
            "min_width": null,
            "object_fit": null,
            "object_position": null,
            "order": null,
            "overflow": null,
            "overflow_x": null,
            "overflow_y": null,
            "padding": null,
            "right": null,
            "top": null,
            "visibility": null,
            "width": null
          }
        },
        "4a553e26d2cd41cc8d94be3c28badef9": {
          "model_module": "@jupyter-widgets/controls",
          "model_name": "DescriptionStyleModel",
          "model_module_version": "1.5.0",
          "state": {
            "_model_module": "@jupyter-widgets/controls",
            "_model_module_version": "1.5.0",
            "_model_name": "DescriptionStyleModel",
            "_view_count": null,
            "_view_module": "@jupyter-widgets/base",
            "_view_module_version": "1.2.0",
            "_view_name": "StyleView",
            "description_width": ""
          }
        },
        "fbf8c9b2eb52437b943698f7ae7592d9": {
          "model_module": "@jupyter-widgets/base",
          "model_name": "LayoutModel",
          "model_module_version": "1.2.0",
          "state": {
            "_model_module": "@jupyter-widgets/base",
            "_model_module_version": "1.2.0",
            "_model_name": "LayoutModel",
            "_view_count": null,
            "_view_module": "@jupyter-widgets/base",
            "_view_module_version": "1.2.0",
            "_view_name": "LayoutView",
            "align_content": null,
            "align_items": null,
            "align_self": null,
            "border": null,
            "bottom": null,
            "display": null,
            "flex": null,
            "flex_flow": null,
            "grid_area": null,
            "grid_auto_columns": null,
            "grid_auto_flow": null,
            "grid_auto_rows": null,
            "grid_column": null,
            "grid_gap": null,
            "grid_row": null,
            "grid_template_areas": null,
            "grid_template_columns": null,
            "grid_template_rows": null,
            "height": null,
            "justify_content": null,
            "justify_items": null,
            "left": null,
            "margin": null,
            "max_height": null,
            "max_width": null,
            "min_height": null,
            "min_width": null,
            "object_fit": null,
            "object_position": null,
            "order": null,
            "overflow": null,
            "overflow_x": null,
            "overflow_y": null,
            "padding": null,
            "right": null,
            "top": null,
            "visibility": null,
            "width": null
          }
        },
        "25d1d04e9a3049ed9ce01b79430a23a9": {
          "model_module": "@jupyter-widgets/controls",
          "model_name": "ProgressStyleModel",
          "model_module_version": "1.5.0",
          "state": {
            "_model_module": "@jupyter-widgets/controls",
            "_model_module_version": "1.5.0",
            "_model_name": "ProgressStyleModel",
            "_view_count": null,
            "_view_module": "@jupyter-widgets/base",
            "_view_module_version": "1.2.0",
            "_view_name": "StyleView",
            "bar_color": null,
            "description_width": ""
          }
        },
        "0ee9ca12d3ef46b7a7f265a53ea7b856": {
          "model_module": "@jupyter-widgets/base",
          "model_name": "LayoutModel",
          "model_module_version": "1.2.0",
          "state": {
            "_model_module": "@jupyter-widgets/base",
            "_model_module_version": "1.2.0",
            "_model_name": "LayoutModel",
            "_view_count": null,
            "_view_module": "@jupyter-widgets/base",
            "_view_module_version": "1.2.0",
            "_view_name": "LayoutView",
            "align_content": null,
            "align_items": null,
            "align_self": null,
            "border": null,
            "bottom": null,
            "display": null,
            "flex": null,
            "flex_flow": null,
            "grid_area": null,
            "grid_auto_columns": null,
            "grid_auto_flow": null,
            "grid_auto_rows": null,
            "grid_column": null,
            "grid_gap": null,
            "grid_row": null,
            "grid_template_areas": null,
            "grid_template_columns": null,
            "grid_template_rows": null,
            "height": null,
            "justify_content": null,
            "justify_items": null,
            "left": null,
            "margin": null,
            "max_height": null,
            "max_width": null,
            "min_height": null,
            "min_width": null,
            "object_fit": null,
            "object_position": null,
            "order": null,
            "overflow": null,
            "overflow_x": null,
            "overflow_y": null,
            "padding": null,
            "right": null,
            "top": null,
            "visibility": null,
            "width": null
          }
        },
        "83b445f87f8946b8ad0cd68f207abc13": {
          "model_module": "@jupyter-widgets/controls",
          "model_name": "DescriptionStyleModel",
          "model_module_version": "1.5.0",
          "state": {
            "_model_module": "@jupyter-widgets/controls",
            "_model_module_version": "1.5.0",
            "_model_name": "DescriptionStyleModel",
            "_view_count": null,
            "_view_module": "@jupyter-widgets/base",
            "_view_module_version": "1.2.0",
            "_view_name": "StyleView",
            "description_width": ""
          }
        },
        "5ce001b8459e4cd39966d05ecc624925": {
          "model_module": "@jupyter-widgets/controls",
          "model_name": "HBoxModel",
          "model_module_version": "1.5.0",
          "state": {
            "_dom_classes": [],
            "_model_module": "@jupyter-widgets/controls",
            "_model_module_version": "1.5.0",
            "_model_name": "HBoxModel",
            "_view_count": null,
            "_view_module": "@jupyter-widgets/controls",
            "_view_module_version": "1.5.0",
            "_view_name": "HBoxView",
            "box_style": "",
            "children": [
              "IPY_MODEL_8748d81259cf4e668b9fdce96bb5ed83",
              "IPY_MODEL_868698d2905b41199813c51b12dc0e93",
              "IPY_MODEL_d810852c05304bcb9661119f8aa3b07b"
            ],
            "layout": "IPY_MODEL_3170092fbbe442a8b3d744e812bb37ba"
          }
        },
        "8748d81259cf4e668b9fdce96bb5ed83": {
          "model_module": "@jupyter-widgets/controls",
          "model_name": "HTMLModel",
          "model_module_version": "1.5.0",
          "state": {
            "_dom_classes": [],
            "_model_module": "@jupyter-widgets/controls",
            "_model_module_version": "1.5.0",
            "_model_name": "HTMLModel",
            "_view_count": null,
            "_view_module": "@jupyter-widgets/controls",
            "_view_module_version": "1.5.0",
            "_view_name": "HTMLView",
            "description": "",
            "description_tooltip": null,
            "layout": "IPY_MODEL_1c74955eea21447e94a34968535eb28c",
            "placeholder": "​",
            "style": "IPY_MODEL_c86a17be733f44e5b69b431cc5d9f856",
            "value": "100%"
          }
        },
        "868698d2905b41199813c51b12dc0e93": {
          "model_module": "@jupyter-widgets/controls",
          "model_name": "FloatProgressModel",
          "model_module_version": "1.5.0",
          "state": {
            "_dom_classes": [],
            "_model_module": "@jupyter-widgets/controls",
            "_model_module_version": "1.5.0",
            "_model_name": "FloatProgressModel",
            "_view_count": null,
            "_view_module": "@jupyter-widgets/controls",
            "_view_module_version": "1.5.0",
            "_view_name": "ProgressView",
            "bar_style": "",
            "description": "",
            "description_tooltip": null,
            "layout": "IPY_MODEL_d7d242ad0ea848958b0743974cadddd8",
            "max": 80,
            "min": 0,
            "orientation": "horizontal",
            "style": "IPY_MODEL_b6747b6e8a664da6b16fdb15959e83ab",
            "value": 80
          }
        },
        "d810852c05304bcb9661119f8aa3b07b": {
          "model_module": "@jupyter-widgets/controls",
          "model_name": "HTMLModel",
          "model_module_version": "1.5.0",
          "state": {
            "_dom_classes": [],
            "_model_module": "@jupyter-widgets/controls",
            "_model_module_version": "1.5.0",
            "_model_name": "HTMLModel",
            "_view_count": null,
            "_view_module": "@jupyter-widgets/controls",
            "_view_module_version": "1.5.0",
            "_view_name": "HTMLView",
            "description": "",
            "description_tooltip": null,
            "layout": "IPY_MODEL_d34cbbd38bf24c09b43792e8e2411b3f",
            "placeholder": "​",
            "style": "IPY_MODEL_37b3d2b6677048c7974f901508104602",
            "value": " 80/80 [01:12&lt;00:00,  1.14it/s]"
          }
        },
        "3170092fbbe442a8b3d744e812bb37ba": {
          "model_module": "@jupyter-widgets/base",
          "model_name": "LayoutModel",
          "model_module_version": "1.2.0",
          "state": {
            "_model_module": "@jupyter-widgets/base",
            "_model_module_version": "1.2.0",
            "_model_name": "LayoutModel",
            "_view_count": null,
            "_view_module": "@jupyter-widgets/base",
            "_view_module_version": "1.2.0",
            "_view_name": "LayoutView",
            "align_content": null,
            "align_items": null,
            "align_self": null,
            "border": null,
            "bottom": null,
            "display": null,
            "flex": null,
            "flex_flow": null,
            "grid_area": null,
            "grid_auto_columns": null,
            "grid_auto_flow": null,
            "grid_auto_rows": null,
            "grid_column": null,
            "grid_gap": null,
            "grid_row": null,
            "grid_template_areas": null,
            "grid_template_columns": null,
            "grid_template_rows": null,
            "height": null,
            "justify_content": null,
            "justify_items": null,
            "left": null,
            "margin": null,
            "max_height": null,
            "max_width": null,
            "min_height": null,
            "min_width": null,
            "object_fit": null,
            "object_position": null,
            "order": null,
            "overflow": null,
            "overflow_x": null,
            "overflow_y": null,
            "padding": null,
            "right": null,
            "top": null,
            "visibility": null,
            "width": null
          }
        },
        "1c74955eea21447e94a34968535eb28c": {
          "model_module": "@jupyter-widgets/base",
          "model_name": "LayoutModel",
          "model_module_version": "1.2.0",
          "state": {
            "_model_module": "@jupyter-widgets/base",
            "_model_module_version": "1.2.0",
            "_model_name": "LayoutModel",
            "_view_count": null,
            "_view_module": "@jupyter-widgets/base",
            "_view_module_version": "1.2.0",
            "_view_name": "LayoutView",
            "align_content": null,
            "align_items": null,
            "align_self": null,
            "border": null,
            "bottom": null,
            "display": null,
            "flex": null,
            "flex_flow": null,
            "grid_area": null,
            "grid_auto_columns": null,
            "grid_auto_flow": null,
            "grid_auto_rows": null,
            "grid_column": null,
            "grid_gap": null,
            "grid_row": null,
            "grid_template_areas": null,
            "grid_template_columns": null,
            "grid_template_rows": null,
            "height": null,
            "justify_content": null,
            "justify_items": null,
            "left": null,
            "margin": null,
            "max_height": null,
            "max_width": null,
            "min_height": null,
            "min_width": null,
            "object_fit": null,
            "object_position": null,
            "order": null,
            "overflow": null,
            "overflow_x": null,
            "overflow_y": null,
            "padding": null,
            "right": null,
            "top": null,
            "visibility": null,
            "width": null
          }
        },
        "c86a17be733f44e5b69b431cc5d9f856": {
          "model_module": "@jupyter-widgets/controls",
          "model_name": "DescriptionStyleModel",
          "model_module_version": "1.5.0",
          "state": {
            "_model_module": "@jupyter-widgets/controls",
            "_model_module_version": "1.5.0",
            "_model_name": "DescriptionStyleModel",
            "_view_count": null,
            "_view_module": "@jupyter-widgets/base",
            "_view_module_version": "1.2.0",
            "_view_name": "StyleView",
            "description_width": ""
          }
        },
        "d7d242ad0ea848958b0743974cadddd8": {
          "model_module": "@jupyter-widgets/base",
          "model_name": "LayoutModel",
          "model_module_version": "1.2.0",
          "state": {
            "_model_module": "@jupyter-widgets/base",
            "_model_module_version": "1.2.0",
            "_model_name": "LayoutModel",
            "_view_count": null,
            "_view_module": "@jupyter-widgets/base",
            "_view_module_version": "1.2.0",
            "_view_name": "LayoutView",
            "align_content": null,
            "align_items": null,
            "align_self": null,
            "border": null,
            "bottom": null,
            "display": null,
            "flex": null,
            "flex_flow": null,
            "grid_area": null,
            "grid_auto_columns": null,
            "grid_auto_flow": null,
            "grid_auto_rows": null,
            "grid_column": null,
            "grid_gap": null,
            "grid_row": null,
            "grid_template_areas": null,
            "grid_template_columns": null,
            "grid_template_rows": null,
            "height": null,
            "justify_content": null,
            "justify_items": null,
            "left": null,
            "margin": null,
            "max_height": null,
            "max_width": null,
            "min_height": null,
            "min_width": null,
            "object_fit": null,
            "object_position": null,
            "order": null,
            "overflow": null,
            "overflow_x": null,
            "overflow_y": null,
            "padding": null,
            "right": null,
            "top": null,
            "visibility": null,
            "width": null
          }
        },
        "b6747b6e8a664da6b16fdb15959e83ab": {
          "model_module": "@jupyter-widgets/controls",
          "model_name": "ProgressStyleModel",
          "model_module_version": "1.5.0",
          "state": {
            "_model_module": "@jupyter-widgets/controls",
            "_model_module_version": "1.5.0",
            "_model_name": "ProgressStyleModel",
            "_view_count": null,
            "_view_module": "@jupyter-widgets/base",
            "_view_module_version": "1.2.0",
            "_view_name": "StyleView",
            "bar_color": null,
            "description_width": ""
          }
        },
        "d34cbbd38bf24c09b43792e8e2411b3f": {
          "model_module": "@jupyter-widgets/base",
          "model_name": "LayoutModel",
          "model_module_version": "1.2.0",
          "state": {
            "_model_module": "@jupyter-widgets/base",
            "_model_module_version": "1.2.0",
            "_model_name": "LayoutModel",
            "_view_count": null,
            "_view_module": "@jupyter-widgets/base",
            "_view_module_version": "1.2.0",
            "_view_name": "LayoutView",
            "align_content": null,
            "align_items": null,
            "align_self": null,
            "border": null,
            "bottom": null,
            "display": null,
            "flex": null,
            "flex_flow": null,
            "grid_area": null,
            "grid_auto_columns": null,
            "grid_auto_flow": null,
            "grid_auto_rows": null,
            "grid_column": null,
            "grid_gap": null,
            "grid_row": null,
            "grid_template_areas": null,
            "grid_template_columns": null,
            "grid_template_rows": null,
            "height": null,
            "justify_content": null,
            "justify_items": null,
            "left": null,
            "margin": null,
            "max_height": null,
            "max_width": null,
            "min_height": null,
            "min_width": null,
            "object_fit": null,
            "object_position": null,
            "order": null,
            "overflow": null,
            "overflow_x": null,
            "overflow_y": null,
            "padding": null,
            "right": null,
            "top": null,
            "visibility": null,
            "width": null
          }
        },
        "37b3d2b6677048c7974f901508104602": {
          "model_module": "@jupyter-widgets/controls",
          "model_name": "DescriptionStyleModel",
          "model_module_version": "1.5.0",
          "state": {
            "_model_module": "@jupyter-widgets/controls",
            "_model_module_version": "1.5.0",
            "_model_name": "DescriptionStyleModel",
            "_view_count": null,
            "_view_module": "@jupyter-widgets/base",
            "_view_module_version": "1.2.0",
            "_view_name": "StyleView",
            "description_width": ""
          }
        }
      }
    }
  },
  "cells": [
    {
      "cell_type": "markdown",
      "source": [
        "# Python Script Generation\n",
        "\n",
        "-----\n",
        "\n",
        "### ANLY-580: Natural Language Processing\n",
        "\n",
        "This notebook contains the code required to perform Python script generation as a part of Georgetown University's ANLY-580 Final Project.\n",
        "\n",
        "<br>\n",
        "\n",
        "Authors:\n",
        "* Eduardo Armenta (ea795@georgetown.edu)\n",
        "* Landon Carpenter (lc1276@georgetown.edu)\n",
        "* Matthew Moriarty (mdm341@georgetown.edu)\n",
        "\n",
        "<br>\n",
        "\n",
        "In this notebook, we will use a Generative Pre-Trained Transformer (GPT) model in order to generate Python scripts from given English prompts. An example of this is as follows:\n",
        "\n",
        "```\n",
        "## Input - English Prompt\n",
        "\"write a python function that computes the maximum of three integers\"\n",
        "\n",
        "## Output - Python Script\n",
        "def (num1, num2, num3):\n",
        "  max = num1\n",
        "  if num2 > max:\n",
        "    max = num2\n",
        "  if num3 > max:\n",
        "    max = num3\n",
        "  return max\n",
        "```\n",
        "\n",
        "In order to accomplish this task, we will heavily utilize `Hugging Face` and `PyTorch`. These resources provide libraries such as `transformers` and `torch` that will be very useful to us in accomplishing our task.\n",
        "\n",
        "We will also utilize Google Colab in order to obtain the computations resources required for training our model. Here, we can use GPUs - rather than CPUs - to perform the heavy computational tasks required by our model. As such, it is important to find the `Runtime` tab above, navigate to `Change runtime type`, and select the `GPU` hardware accelerator."
      ],
      "metadata": {
        "id": "1mwFFKudmEHm"
      }
    },
    {
      "cell_type": "markdown",
      "source": [
        "# Setup\n",
        "\n",
        "In this section, we ensure that our Google Colab environment is equipped with the necessary resources before proceeding with our task.\n",
        "\n",
        "## Installing Necessary Libraries\n",
        "\n",
        "Before we begin building our models and completing our task, we must ensure that we have the necessary libraries installed. Here, we will install the following:\n",
        "\n",
        "* `transformers`: this library allows us to access our GPT2 model, tokenizer, and other resources."
      ],
      "metadata": {
        "id": "d_INAKyQqYBE"
      }
    },
    {
      "cell_type": "code",
      "execution_count": null,
      "metadata": {
        "id": "0878V6ZFK7ou"
      },
      "outputs": [],
      "source": [
        "# install transformers\n",
        "!pip install transformers"
      ]
    },
    {
      "cell_type": "markdown",
      "source": [
        "Google Colab already has the other libraries that we need installed, such as `torch`, `pandas`, and `numpy`, so we can proceed with importing these libraries into our Python environment.\n",
        "\n",
        "## Importing Necessary Libraries\n",
        "\n",
        "With the required libraries installed on Google Colab, we can import them into our Python environment."
      ],
      "metadata": {
        "id": "0PgiKihXrrvi"
      }
    },
    {
      "cell_type": "code",
      "source": [
        "# perform necessary imports\n",
        "\n",
        "# data manipulation libraries\n",
        "import pandas as pd\n",
        "import numpy as np\n",
        "\n",
        "# huggingface transformer libraries\n",
        "from transformers import GPT2Tokenizer, GPT2LMHeadModel # , do we need these? GPT2Model, GPT2Config, AutoModelWithLMHead\n",
        "from transformers import get_linear_schedule_with_warmup # AdamW\n",
        "\n",
        "# pytorch libraries\n",
        "import torch\n",
        "from torch.optim import AdamW\n",
        "from torch.utils.data import Dataset, DataLoader, random_split#, RandomSampler, SequentialSampler\n",
        "\n",
        "# progress bar for model training\n",
        "from tqdm.auto import tqdm\n",
        "\n",
        "### additional imports, not sure if we need these either?\n",
        "# import re, os, sys, time, datetime, nltk, random\n",
        "\n",
        "### we aren't plotting anything are we?\n",
        "# import seaborn as sns\n",
        "# import matplotlib.pyplot as plt\n",
        "\n",
        "# from torch.utils.data import Dataset, DataLoader, random_split # , do we need these? RandomSampler, SequentialSampler\n",
        "# torch.manual_seed(42)"
      ],
      "metadata": {
        "id": "7Nx3ygcwLIhD"
      },
      "execution_count": 2,
      "outputs": []
    },
    {
      "cell_type": "markdown",
      "source": [
        "## Uploading the Data\n",
        "\n",
        "In order to access the data that we'd like to use for our Python script generation task, we must upload it to Google Colab in a location that is accessible to us. We will upload our data, contained in the `pythonTextData.txt` file, to the `sample_data/` directory provided by Google Colab."
      ],
      "metadata": {
        "id": "bU9vyckwyThs"
      }
    },
    {
      "cell_type": "markdown",
      "source": [
        "# Prepare the Data\n",
        "\n",
        "In this section, we prepare our data for use in our Python script generation task.\n",
        "\n",
        "## Read in the Data\n",
        "\n",
        "We first must read in the data. As specified in the previous section, we will be reading this data from the following location: `sample_data/pythonTextData.txt`."
      ],
      "metadata": {
        "id": "PVrKfrTD0gBC"
      }
    },
    {
      "cell_type": "code",
      "source": [
        "# read in the data using a try-catch block for error-handling\n",
        "try:  \n",
        "  with open(\"sample_data/pythonTextData.txt\", \"r\", encoding = \"utf8\") as file:\n",
        "    # read in the file as a list of lines\n",
        "    lines = file.readlines()\n",
        "    # report success and number of lines read in\n",
        "    print('The data has been read in successfully.')\n",
        "    print('The data contains', len(lines), 'lines.')\n",
        "except:\n",
        "  # report failure by raising exception\n",
        "  raise Exception('There was a problem reading in the data.')"
      ],
      "metadata": {
        "id": "1EexIrY0LXh1",
        "colab": {
          "base_uri": "https://localhost:8080/"
        },
        "outputId": "078b18b8-c0ca-41ce-e6a0-b7c908aa92cf"
      },
      "execution_count": 3,
      "outputs": [
        {
          "output_type": "stream",
          "name": "stdout",
          "text": [
            "The data has been read in successfully.\n",
            "The data contains 42745 lines.\n"
          ]
        }
      ]
    },
    {
      "cell_type": "markdown",
      "source": [
        "## Preprocess the Data\n",
        "\n",
        "We have read in our data, but we need to extract the information we need from it. The first several lines of the data look like the following:\n",
        "\n",
        "```\n",
        "# write a python program to add two numbers\n",
        "num1 = 1.5\n",
        "num2 = 6.3\n",
        "sum = num1 + num2\n",
        "print(f'Sum: {sum}')\n",
        "\n",
        "\n",
        "# write a python function to add two user provided numbers and return the sum\n",
        "def add_two_numbers(num1, num2):\n",
        "    sum = num1 + num2\n",
        "    return sum\n",
        "```\n",
        "\n",
        "As we can see, the data is formatted in such a way that each prompt is on a line of its own and starts with a `#` character, just like a Python in-line comment. Each prompt is then followed by one or more lines that define the Python code that completes the task that the prompt raises. Finally, these code blocks are followed by two empty lines before the next prompt appears. We can utilize this structure in order to extract each prompt and its corresponding Python code block."
      ],
      "metadata": {
        "id": "bTz2cINv3K9q"
      }
    },
    {
      "cell_type": "code",
      "source": [
        "# collect all indices of lines with '#'\n",
        "src_indexes = [i for i, line in enumerate(lines) if line.startswith('#')]\n",
        "# extract all those lines for use in the source column\n",
        "src = [lines[i].lower() for i in src_indexes]\n",
        "\n",
        "# collect all the targets by extracting the lines between the indices of the sources\n",
        "tgt = [''.join(lines[src_indexes[i]+1:src_indexes[i+1]]).lower() for i, value in enumerate(src_indexes[:-1])]\n",
        "# retrieve the last one as it is not captured by the line above\n",
        "tgt.append(''.join(lines[src_indexes[-1]+1:]))\n",
        "\n",
        "# assert that we collected the same number of sources and targets\\n\",\n",
        "assert len(src) == len(tgt), 'The number of sources (prompts) collected does not equal the number of targets (code blocks) collected.'\n",
        "\n",
        "# place source-target pairs into a data frame\n",
        "python_df = pd.DataFrame({'src':src, 'tgt':tgt})\n",
        "\n",
        "# create a new column that is the concatenation of each source-target pair\n",
        "python_df['txt'] = python_df['src'] + ' | ' + python_df['tgt']"
      ],
      "metadata": {
        "id": "eH9bcqNIMuug"
      },
      "execution_count": 4,
      "outputs": []
    },
    {
      "cell_type": "markdown",
      "source": [
        "It's important to visually observe what we have done in our preprocessing steps, so let's take a look at the first few rows of the data frame."
      ],
      "metadata": {
        "id": "L8lAMuNd93ml"
      }
    },
    {
      "cell_type": "code",
      "source": [
        "# display the first five rows of the data frame\n",
        "python_df.head(5)"
      ],
      "metadata": {
        "colab": {
          "base_uri": "https://localhost:8080/",
          "height": 206
        },
        "id": "0JmEHnaY9_IS",
        "outputId": "dba982b2-5e95-4492-b062-76544eee2de5"
      },
      "execution_count": 5,
      "outputs": [
        {
          "output_type": "execute_result",
          "data": {
            "text/plain": [
              "                                                 src  \\\n",
              "0     # write a python program to add two numbers \\n   \n",
              "1  # write a python function to add two user prov...   \n",
              "2  # write a program to find and print the larges...   \n",
              "3  # write a program to find and print the smalle...   \n",
              "4  # write a python function to merge two given l...   \n",
              "\n",
              "                                                 tgt  \\\n",
              "0  num1 = 1.5\\nnum2 = 6.3\\nsum = num1 + num2\\npri...   \n",
              "1  def add_two_numbers(num1, num2):\\n    sum = nu...   \n",
              "2  \\nnum1 = 10\\nnum2 = 12\\nnum3 = 14\\nif (num1 >=...   \n",
              "3  num1 = 10\\nnum2 = 12\\nnum3 = 14\\nif (num1 <= n...   \n",
              "4  def merge_lists(l1, l2):\\n    return l1 + l2\\n...   \n",
              "\n",
              "                                                 txt  \n",
              "0  # write a python program to add two numbers \\n...  \n",
              "1  # write a python function to add two user prov...  \n",
              "2  # write a program to find and print the larges...  \n",
              "3  # write a program to find and print the smalle...  \n",
              "4  # write a python function to merge two given l...  "
            ],
            "text/html": [
              "\n",
              "  <div id=\"df-e1e7d697-0f6b-437c-8fa5-5f89fe099cb6\">\n",
              "    <div class=\"colab-df-container\">\n",
              "      <div>\n",
              "<style scoped>\n",
              "    .dataframe tbody tr th:only-of-type {\n",
              "        vertical-align: middle;\n",
              "    }\n",
              "\n",
              "    .dataframe tbody tr th {\n",
              "        vertical-align: top;\n",
              "    }\n",
              "\n",
              "    .dataframe thead th {\n",
              "        text-align: right;\n",
              "    }\n",
              "</style>\n",
              "<table border=\"1\" class=\"dataframe\">\n",
              "  <thead>\n",
              "    <tr style=\"text-align: right;\">\n",
              "      <th></th>\n",
              "      <th>src</th>\n",
              "      <th>tgt</th>\n",
              "      <th>txt</th>\n",
              "    </tr>\n",
              "  </thead>\n",
              "  <tbody>\n",
              "    <tr>\n",
              "      <th>0</th>\n",
              "      <td># write a python program to add two numbers \\n</td>\n",
              "      <td>num1 = 1.5\\nnum2 = 6.3\\nsum = num1 + num2\\npri...</td>\n",
              "      <td># write a python program to add two numbers \\n...</td>\n",
              "    </tr>\n",
              "    <tr>\n",
              "      <th>1</th>\n",
              "      <td># write a python function to add two user prov...</td>\n",
              "      <td>def add_two_numbers(num1, num2):\\n    sum = nu...</td>\n",
              "      <td># write a python function to add two user prov...</td>\n",
              "    </tr>\n",
              "    <tr>\n",
              "      <th>2</th>\n",
              "      <td># write a program to find and print the larges...</td>\n",
              "      <td>\\nnum1 = 10\\nnum2 = 12\\nnum3 = 14\\nif (num1 &gt;=...</td>\n",
              "      <td># write a program to find and print the larges...</td>\n",
              "    </tr>\n",
              "    <tr>\n",
              "      <th>3</th>\n",
              "      <td># write a program to find and print the smalle...</td>\n",
              "      <td>num1 = 10\\nnum2 = 12\\nnum3 = 14\\nif (num1 &lt;= n...</td>\n",
              "      <td># write a program to find and print the smalle...</td>\n",
              "    </tr>\n",
              "    <tr>\n",
              "      <th>4</th>\n",
              "      <td># write a python function to merge two given l...</td>\n",
              "      <td>def merge_lists(l1, l2):\\n    return l1 + l2\\n...</td>\n",
              "      <td># write a python function to merge two given l...</td>\n",
              "    </tr>\n",
              "  </tbody>\n",
              "</table>\n",
              "</div>\n",
              "      <button class=\"colab-df-convert\" onclick=\"convertToInteractive('df-e1e7d697-0f6b-437c-8fa5-5f89fe099cb6')\"\n",
              "              title=\"Convert this dataframe to an interactive table.\"\n",
              "              style=\"display:none;\">\n",
              "        \n",
              "  <svg xmlns=\"http://www.w3.org/2000/svg\" height=\"24px\"viewBox=\"0 0 24 24\"\n",
              "       width=\"24px\">\n",
              "    <path d=\"M0 0h24v24H0V0z\" fill=\"none\"/>\n",
              "    <path d=\"M18.56 5.44l.94 2.06.94-2.06 2.06-.94-2.06-.94-.94-2.06-.94 2.06-2.06.94zm-11 1L8.5 8.5l.94-2.06 2.06-.94-2.06-.94L8.5 2.5l-.94 2.06-2.06.94zm10 10l.94 2.06.94-2.06 2.06-.94-2.06-.94-.94-2.06-.94 2.06-2.06.94z\"/><path d=\"M17.41 7.96l-1.37-1.37c-.4-.4-.92-.59-1.43-.59-.52 0-1.04.2-1.43.59L10.3 9.45l-7.72 7.72c-.78.78-.78 2.05 0 2.83L4 21.41c.39.39.9.59 1.41.59.51 0 1.02-.2 1.41-.59l7.78-7.78 2.81-2.81c.8-.78.8-2.07 0-2.86zM5.41 20L4 18.59l7.72-7.72 1.47 1.35L5.41 20z\"/>\n",
              "  </svg>\n",
              "      </button>\n",
              "      \n",
              "  <style>\n",
              "    .colab-df-container {\n",
              "      display:flex;\n",
              "      flex-wrap:wrap;\n",
              "      gap: 12px;\n",
              "    }\n",
              "\n",
              "    .colab-df-convert {\n",
              "      background-color: #E8F0FE;\n",
              "      border: none;\n",
              "      border-radius: 50%;\n",
              "      cursor: pointer;\n",
              "      display: none;\n",
              "      fill: #1967D2;\n",
              "      height: 32px;\n",
              "      padding: 0 0 0 0;\n",
              "      width: 32px;\n",
              "    }\n",
              "\n",
              "    .colab-df-convert:hover {\n",
              "      background-color: #E2EBFA;\n",
              "      box-shadow: 0px 1px 2px rgba(60, 64, 67, 0.3), 0px 1px 3px 1px rgba(60, 64, 67, 0.15);\n",
              "      fill: #174EA6;\n",
              "    }\n",
              "\n",
              "    [theme=dark] .colab-df-convert {\n",
              "      background-color: #3B4455;\n",
              "      fill: #D2E3FC;\n",
              "    }\n",
              "\n",
              "    [theme=dark] .colab-df-convert:hover {\n",
              "      background-color: #434B5C;\n",
              "      box-shadow: 0px 1px 3px 1px rgba(0, 0, 0, 0.15);\n",
              "      filter: drop-shadow(0px 1px 2px rgba(0, 0, 0, 0.3));\n",
              "      fill: #FFFFFF;\n",
              "    }\n",
              "  </style>\n",
              "\n",
              "      <script>\n",
              "        const buttonEl =\n",
              "          document.querySelector('#df-e1e7d697-0f6b-437c-8fa5-5f89fe099cb6 button.colab-df-convert');\n",
              "        buttonEl.style.display =\n",
              "          google.colab.kernel.accessAllowed ? 'block' : 'none';\n",
              "\n",
              "        async function convertToInteractive(key) {\n",
              "          const element = document.querySelector('#df-e1e7d697-0f6b-437c-8fa5-5f89fe099cb6');\n",
              "          const dataTable =\n",
              "            await google.colab.kernel.invokeFunction('convertToInteractive',\n",
              "                                                     [key], {});\n",
              "          if (!dataTable) return;\n",
              "\n",
              "          const docLinkHtml = 'Like what you see? Visit the ' +\n",
              "            '<a target=\"_blank\" href=https://colab.research.google.com/notebooks/data_table.ipynb>data table notebook</a>'\n",
              "            + ' to learn more about interactive tables.';\n",
              "          element.innerHTML = '';\n",
              "          dataTable['output_type'] = 'display_data';\n",
              "          await google.colab.output.renderOutput(dataTable, element);\n",
              "          const docLink = document.createElement('div');\n",
              "          docLink.innerHTML = docLinkHtml;\n",
              "          element.appendChild(docLink);\n",
              "        }\n",
              "      </script>\n",
              "    </div>\n",
              "  </div>\n",
              "  "
            ]
          },
          "metadata": {},
          "execution_count": 5
        }
      ]
    },
    {
      "cell_type": "markdown",
      "source": [
        "# Construct the Model\n",
        "\n",
        "In this section, we will prepare the rest of our resources for our Python script generation task. Here, we will create our model using the `GPT2Tokenizer` and the `GPT2LMHeadModel` from the `transformers` library, create a simple `Dataset` class specific to our task, and utilize the `DataLoader` from the `torch.utils` library in order to provide our data to our model.\n",
        "\n",
        "## Define Hyperparameters\n",
        "\n",
        "We can first define some hyperparameters that we will use throughout this section. These include:\n",
        "\n",
        "* `bsize`: the batch size to use when batching data\n",
        "* `epochs`: the number of epochs to use in training\n",
        "* `lr_init`: the initial rate by which the model learns\n",
        "* `warmup_steps`: the number of steps to take during training before utilizing the initialized learning rate\n",
        "\n",
        "Note that we will use a very small batch size (`bsize = 4`) in order to preserve memory on Google Colab's GPU.\n"
      ],
      "metadata": {
        "id": "IPGPiA4U-Yic"
      }
    },
    {
      "cell_type": "code",
      "source": [
        "# define hyperparameters\n",
        "bsize = 2\n",
        "epochs = 5\n",
        "lr_init = 1e-5\n",
        "warmup_steps = 100"
      ],
      "metadata": {
        "id": "XpMU10uzTnOg"
      },
      "execution_count": 6,
      "outputs": []
    },
    {
      "cell_type": "markdown",
      "source": [
        "## Build the Tokenizer\n",
        "\n",
        "We will retrieve our tokenizer using the pretrained `distilgpt2` option provided by Hugging Face."
      ],
      "metadata": {
        "id": "mJ1df9ugTnwB"
      }
    },
    {
      "cell_type": "code",
      "source": [
        "# initialize the tokenizer\n",
        "tokenizer = GPT2Tokenizer.from_pretrained('gpt2', bos_token='<SOS>', eos_token='<EOS>', pad_token='<PAD>')"
      ],
      "metadata": {
        "colab": {
          "base_uri": "https://localhost:8080/"
        },
        "id": "ZVs-k9WY_cZI",
        "outputId": "990c0775-8b59-4a91-9d82-7fc3d35cc33e"
      },
      "execution_count": 7,
      "outputs": [
        {
          "output_type": "stream",
          "name": "stderr",
          "text": [
            "Special tokens have been added in the vocabulary, make sure the associated word embeddings are fine-tuned or trained.\n"
          ]
        }
      ]
    },
    {
      "cell_type": "markdown",
      "source": [
        "## Build the Dataset\n",
        "\n",
        "We will use `torch.utils.data`'s `Dataset` and `DataLoader` features in order to construct our dataset in such a way that is compatible with our model (<a href=\"https://pytorch.org/tutorials/beginner/basics/data_tutorial.html\">PyTorch: Datasets & DataLoaders</a>).\n",
        "\n",
        "First, we will create a class `Python_Dataset` using `torch.utils.data`'s `Dataset`."
      ],
      "metadata": {
        "id": "o9UCWvQID4kC"
      }
    },
    {
      "cell_type": "code",
      "source": [
        "# 'Python_Dataset' class for our python text data\n",
        "class Python_Dataset(Dataset):\n",
        "\n",
        "  # we need an __init__ function\n",
        "  def __init__(self, input_txt, input_tokenizer):# do we need these?, gpt2_type=\"gpt2\", max_length=768):\n",
        "\n",
        "    # store the incoming tokenizer as an attribute of the instance\n",
        "    self.tokenizer = input_tokenizer\n",
        "    # create attributes to store input IDs and attention masks\n",
        "    self.input_ids_list = []; self.attention_mask_list = []\n",
        "\n",
        "    # iterate through each source-target pair\n",
        "    for txt in input_txt:\n",
        "      # encode the text using special tokens defined above\n",
        "      encodings_dict = input_tokenizer('<SOS>'+ txt + '<EOS>', truncation = True, padding = \"max_length\") # , max_length = max_length)\n",
        "      # store the encoded input IDs and attention mask as tensors\n",
        "      input_ids = torch.tensor(encodings_dict['input_ids'])\n",
        "      attention_mask = torch.tensor(encodings_dict['attention_mask'])\n",
        "      # append the input IDs and attention mask to the class attribute lists\n",
        "      self.input_ids_list.append(input_ids)\n",
        "      self.attention_mask_list.append(attention_mask)\n",
        "\n",
        "  # we need a __len__ function \n",
        "  def __len__(self):\n",
        "    # return the number of lists of input IDs gathered (should match number of texts)\n",
        "    return len(self.input_ids_list)\n",
        "\n",
        "  # we need a __getitem__ function\n",
        "  def __getitem__(self, idx):\n",
        "    # return a tuple of the input IDs and attention mask for the current item\n",
        "    return self.input_ids_list[idx], self.attention_mask_list[idx] "
      ],
      "metadata": {
        "id": "J_WVwTO3NAjw"
      },
      "execution_count": 8,
      "outputs": []
    },
    {
      "cell_type": "markdown",
      "source": [
        "Next, we will create an instance of the `Python_Dataset` class using the class constructor and the data frame that we stored our data in, `python_df`."
      ],
      "metadata": {
        "id": "vCO7SAn_JgUj"
      }
    },
    {
      "cell_type": "code",
      "source": [
        "# create instance of Python_Dataset class\n",
        "python_dataset = Python_Dataset(python_df['txt'], tokenizer)#, max_length=768)"
      ],
      "metadata": {
        "id": "ZK_EqIlVL9bb"
      },
      "execution_count": 9,
      "outputs": []
    },
    {
      "cell_type": "markdown",
      "source": [
        "We can then split our data into training and testing sets, using a random 80%-20% split. We can continue to utilize `torch.utils.data` here and use the `random_split` function for this. We should also check our result to ensure that the split is made correctly. We can print the length of each resulting partition in order to ensure this. With 4,958 source-target pairs, we can expect to see approximately **3,966** observations in our training dataset and the remaining **992** in our testing dataset."
      ],
      "metadata": {
        "id": "630qq_GJNj-i"
      }
    },
    {
      "cell_type": "code",
      "source": [
        "# perform an 80/20 split of the data for training/testing\n",
        "# train_len = int(0.80 * len(python_dataset))\n",
        "# test_len = len(python_dataset) - train_len\n",
        "# train_data, test_data = random_split(python_dataset, [train_len, test_len])\n",
        "\n",
        "# report the number of observations for both training and testing\n",
        "print('Number of training observations:', len(python_dataset)) ###\n",
        "# print('Number of testing observations:', len(test_data))"
      ],
      "metadata": {
        "colab": {
          "base_uri": "https://localhost:8080/"
        },
        "id": "aPGB0o2kNjj9",
        "outputId": "697d4bbb-36ad-477a-c48f-74ef4ed4fa59"
      },
      "execution_count": 10,
      "outputs": [
        {
          "output_type": "stream",
          "name": "stdout",
          "text": [
            "Number of training observations: 4958\n"
          ]
        }
      ]
    },
    {
      "cell_type": "markdown",
      "source": [
        "Finally, we can wrap an *iterable* around our dataset using `torch.utils.data`'s `DataLoader`. According to documentation for this feature, wrapping an iterable around the dataset allows the observations within the dataset to be more easily accessed.\n",
        "\n",
        "We can once again ensure that our data has been loaded properly by observing the lengths of our DataLoader objects. Using a batch size of 16, we can expect the training DataLoader to have ceil($\\frac{3966}{16}$)= **248** batches. Similarly, we can expect the testing DataLoader to have ceil($\\frac{992}{16}$)= **62** batches."
      ],
      "metadata": {
        "id": "Xm1wLBtaOgpi"
      }
    },
    {
      "cell_type": "code",
      "source": [
        "# create the data loader for both training and testing\n",
        "# train_batches = DataLoader(train_data, batch_size = bsize)#, # sampler = RandomSampler(train_dataset),)\n",
        "# test_batches = DataLoader(test_data, batch_size = bsize)#, # sampler = SequentialSampler(val_dataset),)\n",
        "\n",
        "all_batches = DataLoader(python_dataset, batch_size = bsize)\n",
        "\n",
        "# report the number of loaded batches for both training and testing\n",
        "print('Number of training batches:', len(all_batches))\n",
        "# print('Number of testing batches:', len(test_batches))"
      ],
      "metadata": {
        "id": "cSApjXjQNGET",
        "colab": {
          "base_uri": "https://localhost:8080/"
        },
        "outputId": "d6d535ff-b4c4-4de6-ba1b-2a55ce017ca1"
      },
      "execution_count": 11,
      "outputs": [
        {
          "output_type": "stream",
          "name": "stdout",
          "text": [
            "Number of training batches: 2479\n"
          ]
        }
      ]
    },
    {
      "cell_type": "markdown",
      "source": [
        "## Build the Model\n",
        "\n",
        "We will use `transformers`' `GPT2LMHeadModel` here in order to retrieve our model. Using the `distilgpt2` option as we used with the tokenizer, we can retrieve a smaller, more manageable version of GPT2."
      ],
      "metadata": {
        "id": "CQn7uGxIRUwL"
      }
    },
    {
      "cell_type": "code",
      "source": [
        "# initialize the model using distilgpt2\n",
        "model = GPT2LMHeadModel.from_pretrained(\"gpt2\")#, config=configuration)\n",
        "\n",
        "model.resize_token_embeddings(len(tokenizer));"
      ],
      "metadata": {
        "id": "JI_h90KLSOEb"
      },
      "execution_count": 12,
      "outputs": []
    },
    {
      "cell_type": "markdown",
      "source": [
        "Since our model will require strong computational resources, we could place the model directly on Google Colab's GPU, but we opt for a safer way of doing so. Below, we only place the model on the GPU if it is available."
      ],
      "metadata": {
        "id": "w53Q8AJXSoyg"
      }
    },
    {
      "cell_type": "code",
      "source": [
        "# send the model to the available device\n",
        "if torch.cuda.is_available():\n",
        "  # if available, use GPU\n",
        "  device = torch.device('cuda:0')\n",
        "else:\n",
        "  # otherwise, use CPU\n",
        "  device = torch.device('cpu')\n",
        "\n",
        "# push the model to the selected device\n",
        "model.to(device);\n",
        "\n",
        "# report the device that the model was pushed to\n",
        "print('The model has been pushed to device:', device)"
      ],
      "metadata": {
        "colab": {
          "base_uri": "https://localhost:8080/"
        },
        "id": "rAqaKfmWS3PT",
        "outputId": "98ef2a25-a757-47ec-96bf-6b2e68554d7c"
      },
      "execution_count": 13,
      "outputs": [
        {
          "output_type": "stream",
          "name": "stdout",
          "text": [
            "The model has been pushed to device: cuda:0\n"
          ]
        }
      ]
    },
    {
      "cell_type": "markdown",
      "source": [
        "We can also initialize our optimizer and create a scheduled learning rate. These components will allow our model to learn in a more constructive way, rather than a more erratic one."
      ],
      "metadata": {
        "id": "bmnrd_10TDnb"
      }
    },
    {
      "cell_type": "code",
      "source": [
        "# initialize optimizer\n",
        "optimizer = AdamW(model.parameters(), lr = lr_init)\n",
        "\n",
        "# initialize a scheduled learning rate\n",
        "lr = get_linear_schedule_with_warmup(\n",
        "    optimizer, num_warmup_steps = warmup_steps, \n",
        "    num_training_steps = len(all_batches)) # train_batches"
      ],
      "metadata": {
        "id": "wh4A4Y33TIG6"
      },
      "execution_count": 14,
      "outputs": []
    },
    {
      "cell_type": "markdown",
      "source": [
        "# Train the Model\n",
        "\n",
        "In this section, we train our model using all the features that we have organized. We define a function, `runner`, to execute the training process and call the function using our training data."
      ],
      "metadata": {
        "id": "BsiuhPI4TIxj"
      }
    },
    {
      "cell_type": "code",
      "source": [
        "def runner(batches):\n",
        "\n",
        "  # prepare for training\n",
        "  model.train()\n",
        "\n",
        "  # train the model over the number of specified epochs\n",
        "  for epoch in range(epochs):\n",
        "\n",
        "    # start a progress bar, which will help for observing runtime\n",
        "    print('Training: Epoch', epoch + 1)\n",
        "    progress_bar = tqdm(range(len(batches)))\n",
        "\n",
        "    # iterate through all batches\n",
        "    for batch in batches:\n",
        "\n",
        "      # extract the input IDs (position 0)\n",
        "      input_ids = batch[0].to(device)\n",
        "      labels = batch[0].to(device)\n",
        "      # extract the attention masks (position 1)\n",
        "      attention_masks = batch[1].to(device)       \n",
        "\n",
        "      # retrieve the outputs of the model\n",
        "      outputs = model(input_ids,\n",
        "                      labels = labels, \n",
        "                      attention_mask = attention_masks,\n",
        "                        # token_type_ids=None\n",
        "                     ) \n",
        "\n",
        "      # compute loss and backpropogate\n",
        "      loss = outputs.loss\n",
        "      loss.backward()\n",
        "      # advance the optimizer and learning rates\n",
        "      optimizer.step()\n",
        "      lr.step()\n",
        "      # zero out gradients so they won't affect the next batch\n",
        "      optimizer.zero_grad()\n",
        "\n",
        "      # update the progress bar\n",
        "      progress_bar.update(1)"
      ],
      "metadata": {
        "id": "M_Mr3BYZiibt"
      },
      "execution_count": 15,
      "outputs": []
    },
    {
      "cell_type": "code",
      "source": [
        "# train the model using the function above\n",
        "runner(all_batches)"
      ],
      "metadata": {
        "colab": {
          "base_uri": "https://localhost:8080/",
          "height": 66,
          "referenced_widgets": [
            "7c9709db34bd4106b63e36b397b59fbc",
            "c7fd3e407c3e4f38afc0fc84e8a84c64",
            "0e44038c77914789a9e7fce233c8720a",
            "ad1c2a28ab3644ae9fbb13f43cf743b4",
            "7f15d9c0ba054bf9af636c5d3538ac9c",
            "2b8bf95a59434948b01d5d7c37489ea2",
            "4a553e26d2cd41cc8d94be3c28badef9",
            "fbf8c9b2eb52437b943698f7ae7592d9",
            "25d1d04e9a3049ed9ce01b79430a23a9",
            "0ee9ca12d3ef46b7a7f265a53ea7b856",
            "83b445f87f8946b8ad0cd68f207abc13"
          ]
        },
        "id": "y-jSBUHGpS_B",
        "outputId": "e2d1be70-46bf-40ac-8891-495277e1711e"
      },
      "execution_count": null,
      "outputs": [
        {
          "output_type": "stream",
          "name": "stdout",
          "text": [
            "Training: Epoch 1\n"
          ]
        },
        {
          "output_type": "display_data",
          "data": {
            "text/plain": [
              "  0%|          | 0/2479 [00:00<?, ?it/s]"
            ],
            "application/vnd.jupyter.widget-view+json": {
              "version_major": 2,
              "version_minor": 0,
              "model_id": "7c9709db34bd4106b63e36b397b59fbc"
            }
          },
          "metadata": {}
        }
      ]
    },
    {
      "cell_type": "code",
      "source": [
        "### MATT ADAPTATION\n",
        "\n",
        "# total_t0 = time.time()\n",
        "\n",
        "training_stats = []\n",
        "\n",
        "# model = model.to(device)\n",
        "\n",
        "# start a progress bar, which will help for observing runtime\n",
        "progress_bar = tqdm(range(len(train_batches)*epochs))\n",
        "\n",
        "# prepare for training\n",
        "model.train()\n",
        "\n",
        "# for epoch_i in range(0, epochs):\n",
        "for epoch in range(epochs):\n",
        "\n",
        "    # ========================================\n",
        "    #               Training\n",
        "    # ========================================\n",
        "\n",
        "    # print(\"\")\n",
        "    # print('======== Epoch {:} / {:} ========'.format(epoch_i + 1, epochs))\n",
        "    # print('Training...')\n",
        "\n",
        "    # t0 = time.time()\n",
        "\n",
        "    total_train_loss = 0\n",
        "\n",
        "    model.train()\n",
        "\n",
        "    # for step, batch in enumerate(train_dataloader):\n",
        "    for batch in train_batches:\n",
        "\n",
        "        b_input_ids = batch[0].to(device)\n",
        "        b_labels = batch[0].to(device)\n",
        "        b_masks = batch[1].to(device)       \n",
        "\n",
        "        outputs = model(  b_input_ids,\n",
        "                          labels = b_labels, \n",
        "                          attention_mask = b_masks,\n",
        "                          token_type_ids = None\n",
        "                        )\n",
        "\n",
        "        loss = outputs[0]  \n",
        "\n",
        "        batch_loss = loss.item()\n",
        "        total_train_loss += batch_loss\n",
        "\n",
        "        # Get sample every x batches.\n",
        "        # if step % sample_every == 0 and not step == 0:\n",
        "\n",
        "        #     elapsed = format_time(time.time() - t0)\n",
        "        #     print('  Batch {:>5,}  of  {:>5,}. Loss: {:>5,}.   Elapsed: {:}.'.format(step, len(train_dataloader), batch_loss, elapsed))\n",
        "\n",
        "        #     model.eval()\n",
        "\n",
        "        #     sample_outputs = model.generate(\n",
        "        #                             bos_token_id=random.randint(1,30000),\n",
        "        #                             do_sample=True,   \n",
        "        #                             top_k=50, \n",
        "        #                             max_length = 200,\n",
        "        #                             top_p=0.95, \n",
        "        #                             num_return_sequences=1\n",
        "        #                         )\n",
        "        #     for i, sample_output in enumerate(sample_outputs):\n",
        "        #           print(\"{}: {}\".format(i, tokenizer.decode(sample_output, skip_special_tokens=True)))\n",
        "            \n",
        "        #     model.train()\n",
        "\n",
        "        loss.backward()\n",
        "\n",
        "        optimizer.step()\n",
        "\n",
        "        lr.step()\n",
        "\n",
        "        model.zero_grad() \n",
        "\n",
        "        # update the progress bar\n",
        "        progress_bar.update(1)\n",
        "\n",
        "    # Calculate the average loss over all of the batches.\n",
        "    avg_train_loss = total_train_loss / len(train_batches)       \n",
        "    \n",
        "    # Measure how long this epoch took.\n",
        "    # training_time = format_time(time.time() - t0)\n",
        "\n",
        "    # print(\"\")\n",
        "    # print(\"  Average training loss: {0:.2f}\".format(avg_train_loss))\n",
        "    # print(\"  Training epoch took: {:}\".format(training_time))\n",
        "        \n",
        "    # ========================================\n",
        "    #               Validation\n",
        "    # ========================================\n",
        "\n",
        "\n",
        "##########\n",
        "\n",
        "\n",
        "#     print(\"\")\n",
        "#     print(\"Running Validation...\")\n",
        "\n",
        "#     t0 = time.time()\n",
        "\n",
        "#     model.eval()\n",
        "\n",
        "#     total_eval_loss = 0\n",
        "#     nb_eval_steps = 0\n",
        "\n",
        "#     # Evaluate data for one epoch\n",
        "#     for batch in validation_dataloader:\n",
        "        \n",
        "#         b_input_ids = batch[0].to(device)\n",
        "#         b_labels = batch[0].to(device)\n",
        "#         b_masks = batch[1].to(device)\n",
        "        \n",
        "#         with torch.no_grad():        \n",
        "\n",
        "#             outputs  = model(b_input_ids, \n",
        "# #                            token_type_ids=None, \n",
        "#                              attention_mask = b_masks,\n",
        "#                             labels=b_labels)\n",
        "          \n",
        "#             loss = outputs[0]  \n",
        "            \n",
        "#         batch_loss = loss.item()\n",
        "#         total_eval_loss += batch_loss        \n",
        "\n",
        "#     avg_val_loss = total_eval_loss / len(validation_dataloader)\n",
        "    \n",
        "#     validation_time = format_time(time.time() - t0)    \n",
        "\n",
        "#     print(\"  Validation Loss: {0:.2f}\".format(avg_val_loss))\n",
        "#     print(\"  Validation took: {:}\".format(validation_time))\n",
        "\n",
        "#     # Record all statistics from this epoch.\n",
        "#     training_stats.append(\n",
        "#         {\n",
        "#             'epoch': epoch_i + 1,\n",
        "#             'Training Loss': avg_train_loss,\n",
        "#             'Valid. Loss': avg_val_loss,\n",
        "#             'Training Time': training_time,\n",
        "#             'Validation Time': validation_time\n",
        "#         }\n",
        "#     )\n",
        "\n",
        "\n",
        "##########\n",
        "\n",
        "\n",
        "print(\"\")\n",
        "print(\"Training complete!\")\n",
        "# print(\"Total training took {:} (h:mm:ss)\".format(format_time(time.time()-total_t0)))"
      ],
      "metadata": {
        "colab": {
          "base_uri": "https://localhost:8080/",
          "height": 84,
          "referenced_widgets": [
            "5ce001b8459e4cd39966d05ecc624925",
            "8748d81259cf4e668b9fdce96bb5ed83",
            "868698d2905b41199813c51b12dc0e93",
            "d810852c05304bcb9661119f8aa3b07b",
            "3170092fbbe442a8b3d744e812bb37ba",
            "1c74955eea21447e94a34968535eb28c",
            "c86a17be733f44e5b69b431cc5d9f856",
            "d7d242ad0ea848958b0743974cadddd8",
            "b6747b6e8a664da6b16fdb15959e83ab",
            "d34cbbd38bf24c09b43792e8e2411b3f",
            "37b3d2b6677048c7974f901508104602"
          ]
        },
        "id": "hndys0xUWGR0",
        "outputId": "1743281d-c5ea-40c0-a5cc-7a3499691fc3"
      },
      "execution_count": 41,
      "outputs": [
        {
          "output_type": "display_data",
          "data": {
            "text/plain": [
              "  0%|          | 0/80 [00:00<?, ?it/s]"
            ],
            "application/vnd.jupyter.widget-view+json": {
              "version_major": 2,
              "version_minor": 0,
              "model_id": "5ce001b8459e4cd39966d05ecc624925"
            }
          },
          "metadata": {}
        },
        {
          "output_type": "stream",
          "name": "stdout",
          "text": [
            "\n",
            "Training complete!\n"
          ]
        }
      ]
    },
    {
      "cell_type": "code",
      "source": [
        "### OLD VERSION\n",
        "\n",
        "total_t0 = time.time()\n",
        "\n",
        "training_stats = []\n",
        "\n",
        "model = model.to(device)\n",
        "\n",
        "for epoch_i in range(0, epochs):\n",
        "\n",
        "    # ========================================\n",
        "    #               Training\n",
        "    # ========================================\n",
        "\n",
        "    print(\"\")\n",
        "    print('======== Epoch {:} / {:} ========'.format(epoch_i + 1, epochs))\n",
        "    print('Training...')\n",
        "\n",
        "    t0 = time.time()\n",
        "\n",
        "    total_train_loss = 0\n",
        "\n",
        "    model.train()\n",
        "\n",
        "    for step, batch in enumerate(train_dataloader):\n",
        "\n",
        "        b_input_ids = batch[0].to(device)\n",
        "        b_labels = batch[0].to(device)\n",
        "        b_masks = batch[1].to(device)\n",
        "\n",
        "        model.zero_grad()        \n",
        "\n",
        "        outputs = model(  b_input_ids,\n",
        "                          labels=b_labels, \n",
        "                          attention_mask = b_masks,\n",
        "                          token_type_ids=None\n",
        "                        )\n",
        "\n",
        "        loss = outputs[0]  \n",
        "\n",
        "        batch_loss = loss.item()\n",
        "        total_train_loss += batch_loss\n",
        "\n",
        "        # Get sample every x batches.\n",
        "        if step % sample_every == 0 and not step == 0:\n",
        "\n",
        "            elapsed = format_time(time.time() - t0)\n",
        "            print('  Batch {:>5,}  of  {:>5,}. Loss: {:>5,}.   Elapsed: {:}.'.format(step, len(train_dataloader), batch_loss, elapsed))\n",
        "\n",
        "            model.eval()\n",
        "\n",
        "            sample_outputs = model.generate(\n",
        "                                    bos_token_id=random.randint(1,30000),\n",
        "                                    do_sample=True,   \n",
        "                                    top_k=50, \n",
        "                                    max_length = 200,\n",
        "                                    top_p=0.95, \n",
        "                                    num_return_sequences=1\n",
        "                                )\n",
        "            for i, sample_output in enumerate(sample_outputs):\n",
        "                  print(\"{}: {}\".format(i, tokenizer.decode(sample_output, skip_special_tokens=True)))\n",
        "            \n",
        "            model.train()\n",
        "\n",
        "        loss.backward()\n",
        "\n",
        "        optimizer.step()\n",
        "\n",
        "        scheduler.step()\n",
        "\n",
        "    # Calculate the average loss over all of the batches.\n",
        "    avg_train_loss = total_train_loss / len(train_dataloader)       \n",
        "    \n",
        "    # Measure how long this epoch took.\n",
        "    training_time = format_time(time.time() - t0)\n",
        "\n",
        "    print(\"\")\n",
        "    print(\"  Average training loss: {0:.2f}\".format(avg_train_loss))\n",
        "    print(\"  Training epoch took: {:}\".format(training_time))\n",
        "        \n",
        "    # ========================================\n",
        "    #               Validation\n",
        "    # ========================================\n",
        "\n",
        "    print(\"\")\n",
        "    print(\"Running Validation...\")\n",
        "\n",
        "    t0 = time.time()\n",
        "\n",
        "    model.eval()\n",
        "\n",
        "    total_eval_loss = 0\n",
        "    nb_eval_steps = 0\n",
        "\n",
        "    # Evaluate data for one epoch\n",
        "    for batch in validation_dataloader:\n",
        "        \n",
        "        b_input_ids = batch[0].to(device)\n",
        "        b_labels = batch[0].to(device)\n",
        "        b_masks = batch[1].to(device)\n",
        "        \n",
        "        with torch.no_grad():        \n",
        "\n",
        "            outputs  = model(b_input_ids, \n",
        "#                            token_type_ids=None, \n",
        "                             attention_mask = b_masks,\n",
        "                            labels=b_labels)\n",
        "          \n",
        "            loss = outputs[0]  \n",
        "            \n",
        "        batch_loss = loss.item()\n",
        "        total_eval_loss += batch_loss        \n",
        "\n",
        "    avg_val_loss = total_eval_loss / len(validation_dataloader)\n",
        "    \n",
        "    validation_time = format_time(time.time() - t0)    \n",
        "\n",
        "    print(\"  Validation Loss: {0:.2f}\".format(avg_val_loss))\n",
        "    print(\"  Validation took: {:}\".format(validation_time))\n",
        "\n",
        "    # Record all statistics from this epoch.\n",
        "    training_stats.append(\n",
        "        {\n",
        "            'epoch': epoch_i + 1,\n",
        "            'Training Loss': avg_train_loss,\n",
        "            'Valid. Loss': avg_val_loss,\n",
        "            'Training Time': training_time,\n",
        "            'Validation Time': validation_time\n",
        "        }\n",
        "    )\n",
        "\n",
        "print(\"\")\n",
        "print(\"Training complete!\")\n",
        "print(\"Total training took {:} (h:mm:ss)\".format(format_time(time.time()-total_t0)))"
      ],
      "metadata": {
        "colab": {
          "base_uri": "https://localhost:8080/"
        },
        "id": "PrzGe4cXOocE",
        "outputId": "56316e2c-142b-4f1a-a266-fdaa0196278b"
      },
      "execution_count": null,
      "outputs": [
        {
          "metadata": {
            "tags": null
          },
          "name": "stdout",
          "output_type": "stream",
          "text": [
            "\n",
            "======== Epoch 1 / 5 ========\n",
            "Training...\n"
          ]
        },
        {
          "metadata": {
            "tags": null
          },
          "name": "stderr",
          "output_type": "stream",
          "text": [
            "The attention mask and the pad token id were not set. As a consequence, you may observe unexpected behavior. Please pass your input's `attention_mask` to obtain reliable results.\n",
            "Setting `pad_token_id` to `eos_token_id`:50256 for open-end generation.\n"
          ]
        },
        {
          "metadata": {
            "tags": null
          },
          "name": "stdout",
          "output_type": "stream",
          "text": [
            "  Batch   100  of  2,231. Loss: 0.30973324179649353.   Elapsed: 0:00:50.\n",
            "0:  bipartisan,\n"
          ]
        },
        {
          "metadata": {
            "tags": null
          },
          "name": "stderr",
          "output_type": "stream",
          "text": [
            "The attention mask and the pad token id were not set. As a consequence, you may observe unexpected behavior. Please pass your input's `attention_mask` to obtain reliable results.\n",
            "Setting `pad_token_id` to `eos_token_id`:50256 for open-end generation.\n"
          ]
        },
        {
          "metadata": {
            "tags": null
          },
          "name": "stdout",
          "output_type": "stream",
          "text": [
            "  Batch   200  of  2,231. Loss: 0.16636155545711517.   Elapsed: 0:01:43.\n",
            "0:  increasing# write a python function to extract name from string\n",
            " | \n",
            "print(\"input string: \"))\n",
            "\n",
            "\n"
          ]
        },
        {
          "metadata": {
            "tags": null
          },
          "name": "stderr",
          "output_type": "stream",
          "text": [
            "The attention mask and the pad token id were not set. As a consequence, you may observe unexpected behavior. Please pass your input's `attention_mask` to obtain reliable results.\n",
            "Setting `pad_token_id` to `eos_token_id`:50256 for open-end generation.\n"
          ]
        },
        {
          "metadata": {
            "tags": null
          },
          "name": "stdout",
          "output_type": "stream",
          "text": [
            "  Batch   300  of  2,231. Loss: 0.253745973110199.   Elapsed: 0:02:33.\n",
            "0: day# write a python program to print the total count\n",
            " | import count\n",
            "def total_count ( count, values = [])\n",
            "count = count * values\n",
            "print(count, total_count, values)\n",
            "print(count)\n",
            "\n"
          ]
        },
        {
          "metadata": {
            "tags": null
          },
          "name": "stderr",
          "output_type": "stream",
          "text": [
            "The attention mask and the pad token id were not set. As a consequence, you may observe unexpected behavior. Please pass your input's `attention_mask` to obtain reliable results.\n",
            "Setting `pad_token_id` to `eos_token_id`:50256 for open-end generation.\n"
          ]
        },
        {
          "metadata": {
            "tags": null
          },
          "name": "stdout",
          "output_type": "stream",
          "text": [
            "  Batch   400  of  2,231. Loss: 0.13521066308021545.   Elapsed: 0:03:24.\n",
            "0:  Hang# write a function that takes a dict.get a dictionary and returns the same value\n",
            " | def dict(dict1, dict2):\n",
            "    return dict1\n",
            "  def dict2(dict1, dict2):\n",
            "     return dict1\n",
            "\n",
            "\n",
            "def set_dict(dict1, dict2):\n",
            "       return (dict2[1:] + dict1[2:])\n",
            "\n",
            "\n",
            "def add(dict1):\n",
            "       print(dict2.get(dict1, dict2))\n",
            "\n",
            "     return (dict1.get(dict2, dict2) + dict2)\n",
            "\n",
            "    else:\n",
            "       print(dict1)\n",
            "\n",
            "\n",
            "def add(dict2):\n",
            "     return dict1\n",
            "\n",
            "    return(dict2)\n",
            "\n",
            "\n"
          ]
        },
        {
          "metadata": {
            "tags": null
          },
          "name": "stderr",
          "output_type": "stream",
          "text": [
            "The attention mask and the pad token id were not set. As a consequence, you may observe unexpected behavior. Please pass your input's `attention_mask` to obtain reliable results.\n",
            "Setting `pad_token_id` to `eos_token_id`:50256 for open-end generation.\n"
          ]
        },
        {
          "metadata": {
            "tags": null
          },
          "name": "stdout",
          "output_type": "stream",
          "text": [
            "  Batch   500  of  2,231. Loss: 0.23476506769657135.   Elapsed: 0:04:16.\n",
            "0:  foods# write a function to return whether a file is composed of multiple words\n",
            " | \n",
            "def   writea(file1, file2):\n",
            "       return file1[0] + file2[1]\n",
            "\n",
            "\n",
            "\n"
          ]
        },
        {
          "metadata": {
            "tags": null
          },
          "name": "stderr",
          "output_type": "stream",
          "text": [
            "The attention mask and the pad token id were not set. As a consequence, you may observe unexpected behavior. Please pass your input's `attention_mask` to obtain reliable results.\n",
            "Setting `pad_token_id` to `eos_token_id`:50256 for open-end generation.\n"
          ]
        },
        {
          "metadata": {
            "tags": null
          },
          "name": "stdout",
          "output_type": "stream",
          "text": [
            "  Batch   600  of  2,231. Loss: 0.32761454582214355.   Elapsed: 0:05:06.\n",
            "0:  trail# write a function to return the maximum frequency of a given string by recursion\n",
            " | def get_maximum_fahrenheit_from_string(string):\n",
            "   if not string:\n",
            "    return \"max_fahrenheit_ from string\"\n",
            "print(\"best\" * {5}\").format(string.length())\n",
            "else:\n",
            "   print(\"the highest {5}\")\n",
            "\n",
            "\n"
          ]
        },
        {
          "metadata": {
            "tags": null
          },
          "name": "stderr",
          "output_type": "stream",
          "text": [
            "The attention mask and the pad token id were not set. As a consequence, you may observe unexpected behavior. Please pass your input's `attention_mask` to obtain reliable results.\n",
            "Setting `pad_token_id` to `eos_token_id`:50256 for open-end generation.\n"
          ]
        },
        {
          "metadata": {
            "tags": null
          },
          "name": "stdout",
          "output_type": "stream",
          "text": [
            "  Batch   700  of  2,231. Loss: 0.9197306632995605.   Elapsed: 0:05:57.\n",
            "0: intend# write a python function to check if element is a palindrome\n",
            " | def palindrome(e:string):\n",
            "    return e[::2]\n",
            "\n",
            "\n"
          ]
        },
        {
          "metadata": {
            "tags": null
          },
          "name": "stderr",
          "output_type": "stream",
          "text": [
            "The attention mask and the pad token id were not set. As a consequence, you may observe unexpected behavior. Please pass your input's `attention_mask` to obtain reliable results.\n",
            "Setting `pad_token_id` to `eos_token_id`:50256 for open-end generation.\n"
          ]
        },
        {
          "metadata": {
            "tags": null
          },
          "name": "stdout",
          "output_type": "stream",
          "text": [
            "  Batch   800  of  2,231. Loss: 0.0569000281393528.   Elapsed: 0:06:48.\n",
            "0:  surround# write a python program to find the area of a square root of the area of a cube with given area and cube height  \n",
            " |  def cal_area_square_radius(radius,height):  \n",
            "      return (radius**3)\n",
            "\n",
            "\n"
          ]
        },
        {
          "metadata": {
            "tags": null
          },
          "name": "stderr",
          "output_type": "stream",
          "text": [
            "The attention mask and the pad token id were not set. As a consequence, you may observe unexpected behavior. Please pass your input's `attention_mask` to obtain reliable results.\n",
            "Setting `pad_token_id` to `eos_token_id`:50256 for open-end generation.\n"
          ]
        },
        {
          "metadata": {
            "tags": null
          },
          "name": "stdout",
          "output_type": "stream",
          "text": [
            "  Batch   900  of  2,231. Loss: 0.14406147599220276.   Elapsed: 0:07:38.\n",
            "0:  reflex# write a function that will return the area of the area of a circle\n",
            " | def cal_areaarea(area, area_area):\n",
            "   return (area * 1 ** 8)\n",
            "\n",
            "\n"
          ]
        },
        {
          "metadata": {
            "tags": null
          },
          "name": "stderr",
          "output_type": "stream",
          "text": [
            "The attention mask and the pad token id were not set. As a consequence, you may observe unexpected behavior. Please pass your input's `attention_mask` to obtain reliable results.\n",
            "Setting `pad_token_id` to `eos_token_id`:50256 for open-end generation.\n"
          ]
        },
        {
          "metadata": {
            "tags": null
          },
          "name": "stdout",
          "output_type": "stream",
          "text": [
            "  Batch 1,000  of  2,231. Loss: 0.19377556443214417.   Elapsed: 0:08:29.\n",
            "0:  display# initializing python program\n",
            " | import time\n",
            "n = time.days(len(tup(tup))\n",
            "print(\"after initializing tuple list: \")\n",
            "print (\"initizing tuple list : \"))\n",
            "print (f'total tuple after initializing tuple list: \", str.upper())\n",
            "\n",
            "\n"
          ]
        },
        {
          "metadata": {
            "tags": null
          },
          "name": "stderr",
          "output_type": "stream",
          "text": [
            "The attention mask and the pad token id were not set. As a consequence, you may observe unexpected behavior. Please pass your input's `attention_mask` to obtain reliable results.\n",
            "Setting `pad_token_id` to `eos_token_id`:50256 for open-end generation.\n"
          ]
        },
        {
          "metadata": {
            "tags": null
          },
          "name": "stdout",
          "output_type": "stream",
          "text": [
            "  Batch 1,100  of  2,231. Loss: 0.07458175718784332.   Elapsed: 0:09:19.\n",
            "0:  pastor# write a python program which returns n as an even number\n",
            " | nums = 0\n",
            "while nums >= 0:\n",
            "   if nums >= 0:\n",
            "       nums -= 1\n",
            "    else:\n",
            "       nums -= 1\n",
            "print (\"the nums of\", nums, nums)\n",
            "\n",
            "\n"
          ]
        },
        {
          "metadata": {
            "tags": null
          },
          "name": "stderr",
          "output_type": "stream",
          "text": [
            "The attention mask and the pad token id were not set. As a consequence, you may observe unexpected behavior. Please pass your input's `attention_mask` to obtain reliable results.\n",
            "Setting `pad_token_id` to `eos_token_id`:50256 for open-end generation.\n"
          ]
        },
        {
          "metadata": {
            "tags": null
          },
          "name": "stdout",
          "output_type": "stream",
          "text": [
            "  Batch 1,200  of  2,231. Loss: 0.1981954127550125.   Elapsed: 0:10:10.\n",
            "0:  illicit# please write a python program to sort a list\n",
            " | \n",
            "def sort_alist(list):\n",
            "       if list:\n",
            "                     return [list.filter(len(list)) for list in list)]\n",
            "\n",
            "                                                                                                                                   \n"
          ]
        },
        {
          "metadata": {
            "tags": null
          },
          "name": "stderr",
          "output_type": "stream",
          "text": [
            "The attention mask and the pad token id were not set. As a consequence, you may observe unexpected behavior. Please pass your input's `attention_mask` to obtain reliable results.\n",
            "Setting `pad_token_id` to `eos_token_id`:50256 for open-end generation.\n"
          ]
        },
        {
          "metadata": {
            "tags": null
          },
          "name": "stdout",
          "output_type": "stream",
          "text": [
            "  Batch 1,300  of  2,231. Loss: 0.22336742281913757.   Elapsed: 0:11:01.\n",
            "0:  Liberation# write a program to create string values by string\n",
            " | str1 = str1.decode('best')\n",
            "print(\"the powerof\", str1)\n",
            "if not str1.decode('best')\n",
            "print(\"the powerof\", str1)\n",
            "\n",
            "\n"
          ]
        },
        {
          "metadata": {
            "tags": null
          },
          "name": "stderr",
          "output_type": "stream",
          "text": [
            "The attention mask and the pad token id were not set. As a consequence, you may observe unexpected behavior. Please pass your input's `attention_mask` to obtain reliable results.\n",
            "Setting `pad_token_id` to `eos_token_id`:50256 for open-end generation.\n"
          ]
        },
        {
          "metadata": {
            "tags": null
          },
          "name": "stdout",
          "output_type": "stream",
          "text": [
            "  Batch 1,400  of  2,231. Loss: 0.09697529673576355.   Elapsed: 0:11:51.\n",
            "0:  Nam# write a python function to find the odd length in the length of a string and print it  \n",
            " |    \n",
            "def odd_length(my_string):    \n",
            "      \n",
            "    return my_string + my_string     \n",
            "\n",
            "temp = [ele for ele in my_string]  \n",
            "\n",
            "\n"
          ]
        },
        {
          "metadata": {
            "tags": null
          },
          "name": "stderr",
          "output_type": "stream",
          "text": [
            "The attention mask and the pad token id were not set. As a consequence, you may observe unexpected behavior. Please pass your input's `attention_mask` to obtain reliable results.\n",
            "Setting `pad_token_id` to `eos_token_id`:50256 for open-end generation.\n"
          ]
        },
        {
          "metadata": {
            "tags": null
          },
          "name": "stdout",
          "output_type": "stream",
          "text": [
            "  Batch 1,500  of  2,231. Loss: 0.11951907724142075.   Elapsed: 0:12:41.\n",
            "0: ION# write python code to calculate total weighted average of three sublist\n",
            " | \n",
            "def weighted_average(lists): \n",
            "    return total weighted average(lists[:3])\n",
            " \n",
            "print(\"average weighted average of three sublists:\")  \n",
            "\n",
            "    return sum(weights(lists[:5:])\n",
            "  \n",
            "print(f'{sum(weights(lists[:5:])} is {sum(weights(lists[:5:])}')\n",
            "\n",
            "\n"
          ]
        },
        {
          "metadata": {
            "tags": null
          },
          "name": "stderr",
          "output_type": "stream",
          "text": [
            "The attention mask and the pad token id were not set. As a consequence, you may observe unexpected behavior. Please pass your input's `attention_mask` to obtain reliable results.\n",
            "Setting `pad_token_id` to `eos_token_id`:50256 for open-end generation.\n"
          ]
        },
        {
          "metadata": {
            "tags": null
          },
          "name": "stdout",
          "output_type": "stream",
          "text": [
            "  Batch 1,600  of  2,231. Loss: 0.12280315160751343.   Elapsed: 0:13:31.\n",
            "0:  glimpse# write a python function to print the first n unique list in a dictionary with unique dictionary value.\n",
            " | def unique_list_with_id_key():\n",
            "     unique_list_with_id_value(dst, {id=st.get(id()))}, {id=lst.get(id()))}')\n",
            "\n",
            "dst.__init__(id_key=unique_list_with_id_key(), names={names}')\n",
            "\n",
            "\n",
            "dst.res.dst_items()\n",
            "\n",
            "\n"
          ]
        },
        {
          "metadata": {
            "tags": null
          },
          "name": "stderr",
          "output_type": "stream",
          "text": [
            "The attention mask and the pad token id were not set. As a consequence, you may observe unexpected behavior. Please pass your input's `attention_mask` to obtain reliable results.\n",
            "Setting `pad_token_id` to `eos_token_id`:50256 for open-end generation.\n"
          ]
        },
        {
          "metadata": {
            "tags": null
          },
          "name": "stdout",
          "output_type": "stream",
          "text": [
            "  Batch 1,700  of  2,231. Loss: 0.16331501305103302.   Elapsed: 0:14:22.\n",
            "0:  Laure# write a python function to calculate the lcm on a number\n",
            " | def calc_lcm(n):\n",
            "     return 2x(n-1) + 2x(n-2)\n",
            "\n",
            "\n"
          ]
        },
        {
          "metadata": {
            "tags": null
          },
          "name": "stderr",
          "output_type": "stream",
          "text": [
            "The attention mask and the pad token id were not set. As a consequence, you may observe unexpected behavior. Please pass your input's `attention_mask` to obtain reliable results.\n",
            "Setting `pad_token_id` to `eos_token_id`:50256 for open-end generation.\n"
          ]
        },
        {
          "metadata": {
            "tags": null
          },
          "name": "stdout",
          "output_type": "stream",
          "text": [
            "  Batch 1,800  of  2,231. Loss: 0.04992960765957832.   Elapsed: 0:15:11.\n",
            "0: ism# write a python function that takes a string and sorts it by the second letter\n",
            " | def reverse_sentence(s = 'u', 'i', 'j','s', 'u']\n",
            "   return sorted(sorted(s.intersection(''))\n",
            "\n",
            "\n"
          ]
        },
        {
          "metadata": {
            "tags": null
          },
          "name": "stderr",
          "output_type": "stream",
          "text": [
            "The attention mask and the pad token id were not set. As a consequence, you may observe unexpected behavior. Please pass your input's `attention_mask` to obtain reliable results.\n",
            "Setting `pad_token_id` to `eos_token_id`:50256 for open-end generation.\n"
          ]
        },
        {
          "metadata": {
            "tags": null
          },
          "name": "stdout",
          "output_type": "stream",
          "text": [
            "  Batch 1,900  of  2,231. Loss: 0.2102832794189453.   Elapsed: 0:16:01.\n",
            "0: oun# write a python function to return the product of an interval using all else\n",
            " | \n",
            "def productintervals(interval):\n",
            "   if interval >= 1:\n",
            "       greaterintervals(interval),\n",
            "       greater(interval-1),\n",
            "       greater(interval-1),\n",
            "         greater(interval-1),\n",
            "          greater(interval-1),\n",
            "           greater(interval-1),\n",
            "              greater(interval-1),\n",
            "           greater(interval-1),\n",
            "           greater(interval-1),\n",
            "             \n"
          ]
        },
        {
          "metadata": {
            "tags": null
          },
          "name": "stderr",
          "output_type": "stream",
          "text": [
            "The attention mask and the pad token id were not set. As a consequence, you may observe unexpected behavior. Please pass your input's `attention_mask` to obtain reliable results.\n",
            "Setting `pad_token_id` to `eos_token_id`:50256 for open-end generation.\n"
          ]
        },
        {
          "metadata": {
            "tags": null
          },
          "name": "stdout",
          "output_type": "stream",
          "text": [
            "  Batch 2,000  of  2,231. Loss: 0.09303796291351318.   Elapsed: 0:16:53.\n",
            "0:  election# write a python program to remove the punctuations from a string\n",
            " | \n",
            "\n",
            "  \n",
            "test_str = \"hello world\"\n",
            "print(\"the original string is : \" + str(test_str))\n",
            "print(\"the remainder of test_str is : \" + str(test_str))\n",
            "\n",
            "\n"
          ]
        },
        {
          "metadata": {
            "tags": null
          },
          "name": "stderr",
          "output_type": "stream",
          "text": [
            "The attention mask and the pad token id were not set. As a consequence, you may observe unexpected behavior. Please pass your input's `attention_mask` to obtain reliable results.\n",
            "Setting `pad_token_id` to `eos_token_id`:50256 for open-end generation.\n"
          ]
        },
        {
          "metadata": {
            "tags": null
          },
          "name": "stdout",
          "output_type": "stream",
          "text": [
            "  Batch 2,100  of  2,231. Loss: 0.1659221202135086.   Elapsed: 0:17:42.\n",
            "0:  crazy# write python program to create a dictionary that has all the values of each pair, as a list.\n",
            " | dict1 = {1: 5, 7: 7, 8: 7, 9: 7}\n",
            "\n",
            "dict2 = {6: 7, 7: 7, 8: 7}\n",
            "print(\"dict1:{dict2)}\")\n",
            "\n",
            "\n"
          ]
        },
        {
          "metadata": {
            "tags": null
          },
          "name": "stderr",
          "output_type": "stream",
          "text": [
            "The attention mask and the pad token id were not set. As a consequence, you may observe unexpected behavior. Please pass your input's `attention_mask` to obtain reliable results.\n",
            "Setting `pad_token_id` to `eos_token_id`:50256 for open-end generation.\n"
          ]
        },
        {
          "metadata": {
            "tags": null
          },
          "name": "stdout",
          "output_type": "stream",
          "text": [
            "  Batch 2,200  of  2,231. Loss: 0.14148211479187012.   Elapsed: 0:18:32.\n",
            "0:  bench# write a program to remove spaces from a list and print the new list\n",
            " | l = []\n",
            "for x in li:\n",
            "   s = l[:-1]\n",
            "    if x.islower():\n",
            "       new_l = new_list\n",
            "print(\"remove spaces from a list and print list: \", new_l)\n",
            "\n",
            "\n",
            "\n",
            "  Average training loss: 0.26\n",
            "  Training epoch took: 0:18:48\n",
            "\n",
            "Running Validation...\n",
            "  Validation Loss: 0.15\n",
            "  Validation took: 0:00:39\n",
            "\n",
            "======== Epoch 2 / 5 ========\n",
            "Training...\n"
          ]
        },
        {
          "metadata": {
            "tags": null
          },
          "name": "stderr",
          "output_type": "stream",
          "text": [
            "The attention mask and the pad token id were not set. As a consequence, you may observe unexpected behavior. Please pass your input's `attention_mask` to obtain reliable results.\n",
            "Setting `pad_token_id` to `eos_token_id`:50256 for open-end generation.\n"
          ]
        },
        {
          "metadata": {
            "tags": null
          },
          "name": "stdout",
          "output_type": "stream",
          "text": [
            "  Batch   100  of  2,231. Loss: 0.05213026702404022.   Elapsed: 0:00:49.\n",
            "0:  incorporated# write a python program to extract all words from a given file\n",
            " | from random import re\n",
            "\n",
            "print(re.findall('r')[:5])\n",
            "\n",
            "\n",
            "\n"
          ]
        },
        {
          "metadata": {
            "tags": null
          },
          "name": "stderr",
          "output_type": "stream",
          "text": [
            "The attention mask and the pad token id were not set. As a consequence, you may observe unexpected behavior. Please pass your input's `attention_mask` to obtain reliable results.\n",
            "Setting `pad_token_id` to `eos_token_id`:50256 for open-end generation.\n"
          ]
        },
        {
          "metadata": {
            "tags": null
          },
          "name": "stdout",
          "output_type": "stream",
          "text": [
            "  Batch   200  of  2,231. Loss: 0.12873883545398712.   Elapsed: 0:01:39.\n",
            "0: Peter#32. python program to multiply two numbers and display it\n",
            " | num1 = 823\n",
            "num2 = 834\n",
            "num3 = 6\n",
            "num4 = 1\n",
            "sum = num1 + num2 + num3\n",
            "\n",
            "\n"
          ]
        },
        {
          "metadata": {
            "tags": null
          },
          "name": "stderr",
          "output_type": "stream",
          "text": [
            "The attention mask and the pad token id were not set. As a consequence, you may observe unexpected behavior. Please pass your input's `attention_mask` to obtain reliable results.\n",
            "Setting `pad_token_id` to `eos_token_id`:50256 for open-end generation.\n"
          ]
        },
        {
          "metadata": {
            "tags": null
          },
          "name": "stdout",
          "output_type": "stream",
          "text": [
            "  Batch   300  of  2,231. Loss: 0.18198241293430328.   Elapsed: 0:02:29.\n",
            "0: uring# write python code to replace odd element in dictionary with \" \", to remove empty dictionaries\n",
            " | mydict = {'odd': 1, 2, 3, 4} \n",
            " \n",
            "\n"
          ]
        },
        {
          "metadata": {
            "tags": null
          },
          "name": "stderr",
          "output_type": "stream",
          "text": [
            "The attention mask and the pad token id were not set. As a consequence, you may observe unexpected behavior. Please pass your input's `attention_mask` to obtain reliable results.\n",
            "Setting `pad_token_id` to `eos_token_id`:50256 for open-end generation.\n"
          ]
        },
        {
          "metadata": {
            "tags": null
          },
          "name": "stdout",
          "output_type": "stream",
          "text": [
            "  Batch   400  of  2,231. Loss: 0.061430029571056366.   Elapsed: 0:03:18.\n",
            "0:  reproductive# write a python program to print the number of odd elements in a list of integers and the sum of the odd elements. print the sum\n",
            " | li = [11, 2, 5, 3, 5]\n",
            "odd_nosums = li[0]\n",
            "print(odd_nosums)\n",
            "\n",
            "\n",
            "\n"
          ]
        },
        {
          "metadata": {
            "tags": null
          },
          "name": "stderr",
          "output_type": "stream",
          "text": [
            "The attention mask and the pad token id were not set. As a consequence, you may observe unexpected behavior. Please pass your input's `attention_mask` to obtain reliable results.\n",
            "Setting `pad_token_id` to `eos_token_id`:50256 for open-end generation.\n"
          ]
        },
        {
          "metadata": {
            "tags": null
          },
          "name": "stdout",
          "output_type": "stream",
          "text": [
            "  Batch   500  of  2,231. Loss: 0.06915110349655151.   Elapsed: 0:04:08.\n",
            "0:  zone# write a python function to check if a number is prime or not\n",
            " | def check_prime(n):\n",
            "   if n == 1:\n",
            "      if n == 2:\n",
            "         return n\n",
            "\t\n",
            "\telse:\n",
            "          return n\n",
            "\n",
            "\n"
          ]
        },
        {
          "metadata": {
            "tags": null
          },
          "name": "stderr",
          "output_type": "stream",
          "text": [
            "The attention mask and the pad token id were not set. As a consequence, you may observe unexpected behavior. Please pass your input's `attention_mask` to obtain reliable results.\n",
            "Setting `pad_token_id` to `eos_token_id`:50256 for open-end generation.\n"
          ]
        },
        {
          "metadata": {
            "tags": null
          },
          "name": "stdout",
          "output_type": "stream",
          "text": [
            "  Batch   600  of  2,231. Loss: 0.14304013550281525.   Elapsed: 0:04:58.\n",
            "0:  commits# define a function which can generate a string where the first and last character is the first and last character is the last character. the function needs to print the first and last character\n",
            " | def print_last_char(string):\n",
            "    if not isinstance(string):\n",
            "        print(\"\".join(set(string))\n",
            "     else:\n",
            "          print(\" \".join(set(string)))\n",
            "\n",
            "\n"
          ]
        },
        {
          "metadata": {
            "tags": null
          },
          "name": "stderr",
          "output_type": "stream",
          "text": [
            "The attention mask and the pad token id were not set. As a consequence, you may observe unexpected behavior. Please pass your input's `attention_mask` to obtain reliable results.\n",
            "Setting `pad_token_id` to `eos_token_id`:50256 for open-end generation.\n"
          ]
        },
        {
          "metadata": {
            "tags": null
          },
          "name": "stdout",
          "output_type": "stream",
          "text": [
            "  Batch   700  of  2,231. Loss: 0.13509559631347656.   Elapsed: 0:05:48.\n",
            "0:  irony# write a program to remove tuples whose length is less than given length from a list of tuples.\n",
            " | tuplex = [('a', 'b', 'c'), ('a', 'b', 'c'), ('a', 'c'), ('a', 'b'), ('b', 'c'), (a, 'b', 'c'), (b, 'c'), (a, 'c'), (a, 'c'), (b, 'c'), (c, 'a'), (b, 'c'), (a, 'b'), (b, 'c'), (a, 'a'), (b, 'c'), (b, 'c'), (a, 'b'), (a, 'c')]\n",
            "print(x_to_be_sent)\n",
            "\n",
            "\n"
          ]
        },
        {
          "metadata": {
            "tags": null
          },
          "name": "stderr",
          "output_type": "stream",
          "text": [
            "The attention mask and the pad token id were not set. As a consequence, you may observe unexpected behavior. Please pass your input's `attention_mask` to obtain reliable results.\n",
            "Setting `pad_token_id` to `eos_token_id`:50256 for open-end generation.\n"
          ]
        },
        {
          "metadata": {
            "tags": null
          },
          "name": "stdout",
          "output_type": "stream",
          "text": [
            "  Batch   800  of  2,231. Loss: 0.11015886813402176.   Elapsed: 0:06:39.\n",
            "0:  Sah# write a python function to calculate simple interest\n",
            " | def simple_interest(lst): \n",
            "    si = 12 \n",
            "    for i in range(0, lst - 1): \n",
            "       si += (i * 10 + 1)/100 * si \n",
            "         for i in range(0, 10):  \n",
            "           si += (i - 1)/100 - 1 \n",
            "     return si  \n",
            "    \n",
            "     \n",
            "          \n",
            "\n"
          ]
        },
        {
          "metadata": {
            "tags": null
          },
          "name": "stderr",
          "output_type": "stream",
          "text": [
            "The attention mask and the pad token id were not set. As a consequence, you may observe unexpected behavior. Please pass your input's `attention_mask` to obtain reliable results.\n",
            "Setting `pad_token_id` to `eos_token_id`:50256 for open-end generation.\n"
          ]
        },
        {
          "metadata": {
            "tags": null
          },
          "name": "stdout",
          "output_type": "stream",
          "text": [
            "  Batch   900  of  2,231. Loss: 0.25705328583717346.   Elapsed: 0:07:30.\n",
            "0:  Bryan# write a function that returns the sum of the roots of a quadratic equation ax**2 + bx + c = 0\n",
            " | def cal_roots(a:float,b:float,c:float):\n",
            "    return 2*2+b+c*(a**2+b**2)/100\n",
            "def roots_of_n_qad_eq(n):\n",
            "    if (n == 0) and (n == 0): return none\n",
            "    return roots_of_n_qad_eq(n-1,n+2)\n",
            "\n",
            "\n"
          ]
        },
        {
          "metadata": {
            "tags": null
          },
          "name": "stderr",
          "output_type": "stream",
          "text": [
            "The attention mask and the pad token id were not set. As a consequence, you may observe unexpected behavior. Please pass your input's `attention_mask` to obtain reliable results.\n",
            "Setting `pad_token_id` to `eos_token_id`:50256 for open-end generation.\n"
          ]
        },
        {
          "metadata": {
            "tags": null
          },
          "name": "stdout",
          "output_type": "stream",
          "text": [
            "  Batch 1,000  of  2,231. Loss: 0.08756963163614273.   Elapsed: 0:08:21.\n",
            "0:  spirits# write a python program to print the number of zeros in a list\n",
            " | def zeros(l1, l2):\n",
            "    print(l1)\n",
            "\n",
            "\n"
          ]
        },
        {
          "metadata": {
            "tags": null
          },
          "name": "stderr",
          "output_type": "stream",
          "text": [
            "The attention mask and the pad token id were not set. As a consequence, you may observe unexpected behavior. Please pass your input's `attention_mask` to obtain reliable results.\n",
            "Setting `pad_token_id` to `eos_token_id`:50256 for open-end generation.\n"
          ]
        },
        {
          "metadata": {
            "tags": null
          },
          "name": "stdout",
          "output_type": "stream",
          "text": [
            "  Batch 1,100  of  2,231. Loss: 0.25399166345596313.   Elapsed: 0:09:11.\n",
            "0:  sees# write a python program that sorts words in a sentence and prints the words' end in a comma-separated sequence\n",
            " | words = sentence.split() \n",
            "print(word.lower() - 1)\n",
            "\n",
            "\n"
          ]
        },
        {
          "metadata": {
            "tags": null
          },
          "name": "stderr",
          "output_type": "stream",
          "text": [
            "The attention mask and the pad token id were not set. As a consequence, you may observe unexpected behavior. Please pass your input's `attention_mask` to obtain reliable results.\n",
            "Setting `pad_token_id` to `eos_token_id`:50256 for open-end generation.\n"
          ]
        },
        {
          "metadata": {
            "tags": null
          },
          "name": "stdout",
          "output_type": "stream",
          "text": [
            "  Batch 1,200  of  2,231. Loss: 0.04898485541343689.   Elapsed: 0:10:00.\n",
            "0:  hungry# write a function to count number of spaces in a string\n",
            " | \n",
            "def count_spaces(str1, str2):\n",
            "    if len(str1) % 2 == 0:\n",
            "        count += 1\n",
            "   else:\n",
            "          count += 1\n",
            "\n",
            "   def count_spaces(str1, str2):\n",
            "          if str1[0] <= ''.join(str2) and str1[1] <=''.join(str1) and str2[2] <=''.join(str2) and str1[2] <=''.join(str2) and str2[2] <=''.join(str1) and str2[2] <=''.join(str2) and str1[2] <=''.join(str2) and str2[\n"
          ]
        },
        {
          "metadata": {
            "tags": null
          },
          "name": "stderr",
          "output_type": "stream",
          "text": [
            "The attention mask and the pad token id were not set. As a consequence, you may observe unexpected behavior. Please pass your input's `attention_mask` to obtain reliable results.\n",
            "Setting `pad_token_id` to `eos_token_id`:50256 for open-end generation.\n"
          ]
        },
        {
          "metadata": {
            "tags": null
          },
          "name": "stdout",
          "output_type": "stream",
          "text": [
            "  Batch 1,300  of  2,231. Loss: 0.05550263822078705.   Elapsed: 0:10:51.\n",
            "0:  PT# write a python program to check if a tuple is symmetrical and print it if symmetry is valid\n",
            " | \n",
            "def symmetry_check(tup, tup):\n",
            "     from bisect import bisect_left   \n",
            "    yy = bisect_left(tup)  \n",
            "    for i in range(x):  \n",
            "        if (tup[tup[i] > tup[0] + 1]): \n",
            "             yy.update(i) \n",
            "     return yy\n",
            "\n",
            "\n"
          ]
        },
        {
          "metadata": {
            "tags": null
          },
          "name": "stderr",
          "output_type": "stream",
          "text": [
            "The attention mask and the pad token id were not set. As a consequence, you may observe unexpected behavior. Please pass your input's `attention_mask` to obtain reliable results.\n",
            "Setting `pad_token_id` to `eos_token_id`:50256 for open-end generation.\n"
          ]
        },
        {
          "metadata": {
            "tags": null
          },
          "name": "stdout",
          "output_type": "stream",
          "text": [
            "  Batch 1,400  of  2,231. Loss: 0.08088714629411697.   Elapsed: 0:11:42.\n",
            "0: ü# printing result \n",
            " | print(\"incremented elements : \" + str(res))\n",
            "\n",
            "\n"
          ]
        },
        {
          "metadata": {
            "tags": null
          },
          "name": "stderr",
          "output_type": "stream",
          "text": [
            "The attention mask and the pad token id were not set. As a consequence, you may observe unexpected behavior. Please pass your input's `attention_mask` to obtain reliable results.\n",
            "Setting `pad_token_id` to `eos_token_id`:50256 for open-end generation.\n"
          ]
        },
        {
          "metadata": {
            "tags": null
          },
          "name": "stdout",
          "output_type": "stream",
          "text": [
            "  Batch 1,500  of  2,231. Loss: 0.13483095169067383.   Elapsed: 0:12:32.\n",
            "0: ruce# check if string is camelcase using try catch\n",
            " | word = '''this assignment assignment assignment is of 900 marks. marks.total marks.\n",
            " | ctr = (word, ctr)\n",
            "if ctr.isupper() and ctr.find('a', 'c'),word.lower() or ctr.find('a', 'c') or ctr.find('a', 'c') or ctr.find('a'):\n",
            "    ctr.update({1:1:1, 2:3, 3:4}')\n",
            "else:\n",
            "   ctr.replace('a', 'a', 'c')\n",
            "   return ctr.replace('a', 'c', 'c')\n",
            "  \n",
            "\n"
          ]
        },
        {
          "metadata": {
            "tags": null
          },
          "name": "stderr",
          "output_type": "stream",
          "text": [
            "The attention mask and the pad token id were not set. As a consequence, you may observe unexpected behavior. Please pass your input's `attention_mask` to obtain reliable results.\n",
            "Setting `pad_token_id` to `eos_token_id`:50256 for open-end generation.\n"
          ]
        },
        {
          "metadata": {
            "tags": null
          },
          "name": "stdout",
          "output_type": "stream",
          "text": [
            "  Batch 1,600  of  2,231. Loss: 0.20598001778125763.   Elapsed: 0:13:22.\n",
            "0:  derivatives# write a python program to remove punctuations from an input string and print it\n",
            " | punctuations = '''!()-[]{};:'\"\\,<>./?@#$%^&*_~'''\n",
            "for n in punctuations:\n",
            "   print(n)\n",
            "\n",
            "i=0\n",
            "while i<=0:\n",
            "   i+=1\n",
            "   n+=1\n",
            "while i<=n:\n",
            "    print(i)\n",
            "\n",
            "\n"
          ]
        },
        {
          "metadata": {
            "tags": null
          },
          "name": "stderr",
          "output_type": "stream",
          "text": [
            "The attention mask and the pad token id were not set. As a consequence, you may observe unexpected behavior. Please pass your input's `attention_mask` to obtain reliable results.\n",
            "Setting `pad_token_id` to `eos_token_id`:50256 for open-end generation.\n"
          ]
        },
        {
          "metadata": {
            "tags": null
          },
          "name": "stdout",
          "output_type": "stream",
          "text": [
            "  Batch 1,700  of  2,231. Loss: 0.09815408289432526.   Elapsed: 0:14:13.\n",
            "0: \u0019# write a python function to check a given input strings is unique from a given string  \n",
            " |   \n",
            "def countlist_unique(sentence):    \n",
            "     count = 0\n",
            "   \n",
            "    return len(list(int(list(str(count)))))                                                                                                                                   \n"
          ]
        },
        {
          "metadata": {
            "tags": null
          },
          "name": "stderr",
          "output_type": "stream",
          "text": [
            "The attention mask and the pad token id were not set. As a consequence, you may observe unexpected behavior. Please pass your input's `attention_mask` to obtain reliable results.\n",
            "Setting `pad_token_id` to `eos_token_id`:50256 for open-end generation.\n"
          ]
        },
        {
          "metadata": {
            "tags": null
          },
          "name": "stdout",
          "output_type": "stream",
          "text": [
            "  Batch 1,800  of  2,231. Loss: 0.1071963757276535.   Elapsed: 0:15:04.\n",
            "0:  remembering#write a python function that counts the number of spaces in a string\n",
            " | def count_space(str1):\n",
            "    return str1.count(''.join(' '))\n",
            "\n",
            "\n",
            "print(\"the number of spaces in a string are: \", count_space(str1))\n",
            "\n",
            "\n",
            "\n"
          ]
        },
        {
          "metadata": {
            "tags": null
          },
          "name": "stderr",
          "output_type": "stream",
          "text": [
            "The attention mask and the pad token id were not set. As a consequence, you may observe unexpected behavior. Please pass your input's `attention_mask` to obtain reliable results.\n",
            "Setting `pad_token_id` to `eos_token_id`:50256 for open-end generation.\n"
          ]
        },
        {
          "metadata": {
            "tags": null
          },
          "name": "stdout",
          "output_type": "stream",
          "text": [
            "  Batch 1,900  of  2,231. Loss: 0.26972097158432007.   Elapsed: 0:15:54.\n",
            "0:  Sources# write a program to calculate and print the length of a dict, whose keys are numbers from 1 to 9 (both included).\n",
            " | import dict\n",
            "dict = dict()\n",
            "dict_length = dict()\n",
            "print(\"dict length : :                                                                                                                                                      \n"
          ]
        },
        {
          "metadata": {
            "tags": null
          },
          "name": "stderr",
          "output_type": "stream",
          "text": [
            "The attention mask and the pad token id were not set. As a consequence, you may observe unexpected behavior. Please pass your input's `attention_mask` to obtain reliable results.\n",
            "Setting `pad_token_id` to `eos_token_id`:50256 for open-end generation.\n"
          ]
        },
        {
          "metadata": {
            "tags": null
          },
          "name": "stdout",
          "output_type": "stream",
          "text": [
            "  Batch 2,000  of  2,231. Loss: 0.25765496492385864.   Elapsed: 0:16:45.\n",
            "0: ems# write a python program to check a string is palindrome or not\n",
            " | \n",
            "test_str = \"gfg is best\"\n",
            "  \n",
            "\n"
          ]
        },
        {
          "metadata": {
            "tags": null
          },
          "name": "stderr",
          "output_type": "stream",
          "text": [
            "The attention mask and the pad token id were not set. As a consequence, you may observe unexpected behavior. Please pass your input's `attention_mask` to obtain reliable results.\n",
            "Setting `pad_token_id` to `eos_token_id`:50256 for open-end generation.\n"
          ]
        },
        {
          "metadata": {
            "tags": null
          },
          "name": "stdout",
          "output_type": "stream",
          "text": [
            "  Batch 2,100  of  2,231. Loss: 0.11270835250616074.   Elapsed: 0:17:35.\n",
            "0: tz# write a python program to extract digits from tuple list of string and print it\n",
            " | \n",
            "test_list = [(1,3), (3,2), (3,3), (3,3)] \n",
            "print(\"original list : \" + str(test_list)) \n",
            "\n",
            "\n"
          ]
        },
        {
          "metadata": {
            "tags": null
          },
          "name": "stderr",
          "output_type": "stream",
          "text": [
            "The attention mask and the pad token id were not set. As a consequence, you may observe unexpected behavior. Please pass your input's `attention_mask` to obtain reliable results.\n",
            "Setting `pad_token_id` to `eos_token_id`:50256 for open-end generation.\n"
          ]
        },
        {
          "metadata": {
            "tags": null
          },
          "name": "stdout",
          "output_type": "stream",
          "text": [
            "  Batch 2,200  of  2,231. Loss: 0.11840007454156876.   Elapsed: 0:18:25.\n",
            "0: matic# write a python function to convert decimal to binary\n",
            " | def binary_to_dict(n):\n",
            "    return f\"constructed decimal number: {n}\".format(n,n)\n",
            "\n",
            "\n",
            "\n",
            "  Average training loss: 0.14\n",
            "  Training epoch took: 0:18:40\n",
            "\n",
            "Running Validation...\n",
            "  Validation Loss: 0.13\n",
            "  Validation took: 0:00:39\n",
            "\n",
            "======== Epoch 3 / 5 ========\n",
            "Training...\n"
          ]
        },
        {
          "metadata": {
            "tags": null
          },
          "name": "stderr",
          "output_type": "stream",
          "text": [
            "The attention mask and the pad token id were not set. As a consequence, you may observe unexpected behavior. Please pass your input's `attention_mask` to obtain reliable results.\n",
            "Setting `pad_token_id` to `eos_token_id`:50256 for open-end generation.\n"
          ]
        },
        {
          "metadata": {
            "tags": null
          },
          "name": "stdout",
          "output_type": "stream",
          "text": [
            "  Batch   100  of  2,231. Loss: 0.03384293615818024.   Elapsed: 0:00:49.\n",
            "0:  synd# 3x5 matrix\n",
            " | y = [[1,2,3],[4,5,6],[7,8]]\n",
            "result = [[0 for col in range(len(mat):]) for col in range(len(mat[0])]\n",
            "print(result)\n",
            "\n",
            "\n"
          ]
        },
        {
          "metadata": {
            "tags": null
          },
          "name": "stderr",
          "output_type": "stream",
          "text": [
            "The attention mask and the pad token id were not set. As a consequence, you may observe unexpected behavior. Please pass your input's `attention_mask` to obtain reliable results.\n",
            "Setting `pad_token_id` to `eos_token_id`:50256 for open-end generation.\n"
          ]
        },
        {
          "metadata": {
            "tags": null
          },
          "name": "stdout",
          "output_type": "stream",
          "text": [
            "  Batch   200  of  2,231. Loss: 0.13256137073040009.   Elapsed: 0:01:39.\n",
            "0:  gam# write a python function to find whether a positive integer is negative, negative, zero or even\n",
            " | def check_negative_even(n, val):\n",
            "    if n % 2 == 0:\n",
            "         return 2 ** 1 \n",
            "    else:\n",
            "       print(\"positive integer\")\n",
            "    return -bool(n // 2 )\n",
            "\n",
            "\n"
          ]
        },
        {
          "metadata": {
            "tags": null
          },
          "name": "stderr",
          "output_type": "stream",
          "text": [
            "The attention mask and the pad token id were not set. As a consequence, you may observe unexpected behavior. Please pass your input's `attention_mask` to obtain reliable results.\n",
            "Setting `pad_token_id` to `eos_token_id`:50256 for open-end generation.\n"
          ]
        },
        {
          "metadata": {
            "tags": null
          },
          "name": "stdout",
          "output_type": "stream",
          "text": [
            "  Batch   300  of  2,231. Loss: 0.060016799718141556.   Elapsed: 0:02:29.\n",
            "0:  injury# write a program to check and print the number of spaces in a string provided by the user\n",
            " | \n",
            "def check_space(str1, str2):\n",
            "     if str1[-1] == str2[1]:\n",
            "         return str1[-1]\n",
            "    else:\n",
            "         return str1[-1]\n",
            "\n",
            "\n",
            "str1 = \"abc4234afde\"\n",
            "\n",
            "print(check_space(str2))\n",
            "\n",
            "\n"
          ]
        },
        {
          "metadata": {
            "tags": null
          },
          "name": "stderr",
          "output_type": "stream",
          "text": [
            "The attention mask and the pad token id were not set. As a consequence, you may observe unexpected behavior. Please pass your input's `attention_mask` to obtain reliable results.\n",
            "Setting `pad_token_id` to `eos_token_id`:50256 for open-end generation.\n"
          ]
        },
        {
          "metadata": {
            "tags": null
          },
          "name": "stdout",
          "output_type": "stream",
          "text": [
            "  Batch   400  of  2,231. Loss: 0.0880725160241127.   Elapsed: 0:03:20.\n",
            "0: aza# write a program to multiply two matrix and print the result. \n",
            " | \n",
            "def multiply_matrix(mat):\n",
            "    # initialize result\n",
            "    # initialize result\n",
            "    # for each element in the matrix\n",
            "    # initialize result\n",
            "    result = [[0 for col in range(mat)] for col in range(mat)] \n",
            "    for each element in the matrix\n",
            "     result.append((col in range(mat)]  \n",
            "    return result \n",
            "\n",
            "\n",
            "\n"
          ]
        },
        {
          "metadata": {
            "tags": null
          },
          "name": "stderr",
          "output_type": "stream",
          "text": [
            "The attention mask and the pad token id were not set. As a consequence, you may observe unexpected behavior. Please pass your input's `attention_mask` to obtain reliable results.\n",
            "Setting `pad_token_id` to `eos_token_id`:50256 for open-end generation.\n"
          ]
        },
        {
          "metadata": {
            "tags": null
          },
          "name": "stdout",
          "output_type": "stream",
          "text": [
            "  Batch   500  of  2,231. Loss: 0.11069986969232559.   Elapsed: 0:04:10.\n",
            "0:  membrane# write a python function to find sum of all odd numbers from 0 to 9 and other parameters should include the user provided real numbers and the given real numbers  \n",
            " | def sum_of_all_odd(n):\n",
            "     sum_of_all_odd = 0\n",
            "    for i in range(0, 11):\n",
            "         sum_of_all_odd += i\n",
            "    return sum_of_all_odd\n",
            "\n",
            "\n"
          ]
        },
        {
          "metadata": {
            "tags": null
          },
          "name": "stderr",
          "output_type": "stream",
          "text": [
            "The attention mask and the pad token id were not set. As a consequence, you may observe unexpected behavior. Please pass your input's `attention_mask` to obtain reliable results.\n",
            "Setting `pad_token_id` to `eos_token_id`:50256 for open-end generation.\n"
          ]
        },
        {
          "metadata": {
            "tags": null
          },
          "name": "stdout",
          "output_type": "stream",
          "text": [
            "  Batch   600  of  2,231. Loss: 0.07291994988918304.   Elapsed: 0:05:00.\n",
            "0: ijing# given a python list, remove all occurrence of the first element and revert\n",
            " | list1 = [5, 20, 30]\n",
            "samplelist = [list1, samplelist for samplelist in samplelist]\n",
            "print(samplelist)\n",
            "\n",
            "\n",
            "\n"
          ]
        },
        {
          "metadata": {
            "tags": null
          },
          "name": "stderr",
          "output_type": "stream",
          "text": [
            "The attention mask and the pad token id were not set. As a consequence, you may observe unexpected behavior. Please pass your input's `attention_mask` to obtain reliable results.\n",
            "Setting `pad_token_id` to `eos_token_id`:50256 for open-end generation.\n"
          ]
        },
        {
          "metadata": {
            "tags": null
          },
          "name": "stdout",
          "output_type": "stream",
          "text": [
            "  Batch   700  of  2,231. Loss: 0.07325958460569382.   Elapsed: 0:05:50.\n",
            "0:  cast# write a python function to find time for a given angle.\n",
            " | def calcangle(hh, mm):\n",
            "    hour_angle = abs(hour_angle - minute) + minute\n",
            "    minute_angle = min(hour_angle, minute) + minute\n",
            "    angle = abs(hour_angle - minute - minute) + minute\n",
            "    angle = min(hour_angle, minute - minute) + minute\n",
            "    angle = min(hour_angle, minute - minute) + minute\n",
            "    angle = min(hour_angle, minute - minute) + minute\n",
            "   angle = min(hour_angle, minute - minute) + minute\n",
            "    angle = abs(hour_angle, minute - minute) + minute\n",
            "    angle = min(hour_angle, minute - minute)) + minute\n",
            "    angle = min(hour_angle, minute - minute\n"
          ]
        },
        {
          "metadata": {
            "tags": null
          },
          "name": "stderr",
          "output_type": "stream",
          "text": [
            "The attention mask and the pad token id were not set. As a consequence, you may observe unexpected behavior. Please pass your input's `attention_mask` to obtain reliable results.\n",
            "Setting `pad_token_id` to `eos_token_id`:50256 for open-end generation.\n"
          ]
        },
        {
          "metadata": {
            "tags": null
          },
          "name": "stdout",
          "output_type": "stream",
          "text": [
            "  Batch   800  of  2,231. Loss: 0.0757737085223198.   Elapsed: 0:06:41.\n",
            "0:  purch# write a program to accept text and print the words and the characters that will determine if the upper case letter exists in the first 4 characters of a string\n",
            " | word = input(\"upper case letters:\")\n",
            "if word == \"upper case\" or word == \"upper case\":\n",
            "word = \"upper case\"\n",
            "print(word)\n",
            "\n",
            "\n"
          ]
        },
        {
          "metadata": {
            "tags": null
          },
          "name": "stderr",
          "output_type": "stream",
          "text": [
            "The attention mask and the pad token id were not set. As a consequence, you may observe unexpected behavior. Please pass your input's `attention_mask` to obtain reliable results.\n",
            "Setting `pad_token_id` to `eos_token_id`:50256 for open-end generation.\n"
          ]
        },
        {
          "metadata": {
            "tags": null
          },
          "name": "stdout",
          "output_type": "stream",
          "text": [
            "  Batch   900  of  2,231. Loss: 0.06926725059747696.   Elapsed: 0:07:31.\n",
            "0:  shoulders# convert decimal to binary\n",
            " | dec = 344\n",
            "binaryval = 'decimal'\n",
            "binaryval = 'binaryval[::-1]\\w+'\n",
            "\n",
            "\n"
          ]
        },
        {
          "metadata": {
            "tags": null
          },
          "name": "stderr",
          "output_type": "stream",
          "text": [
            "The attention mask and the pad token id were not set. As a consequence, you may observe unexpected behavior. Please pass your input's `attention_mask` to obtain reliable results.\n",
            "Setting `pad_token_id` to `eos_token_id`:50256 for open-end generation.\n"
          ]
        },
        {
          "metadata": {
            "tags": null
          },
          "name": "stdout",
          "output_type": "stream",
          "text": [
            "  Batch 1,000  of  2,231. Loss: 0.06641462445259094.   Elapsed: 0:08:21.\n",
            "0:  built# initializing k \n",
            " | k = 10\n",
            "t = 9\n",
            "t = 0\n",
            " \n",
            "  \n",
            "\n"
          ]
        },
        {
          "metadata": {
            "tags": null
          },
          "name": "stderr",
          "output_type": "stream",
          "text": [
            "The attention mask and the pad token id were not set. As a consequence, you may observe unexpected behavior. Please pass your input's `attention_mask` to obtain reliable results.\n",
            "Setting `pad_token_id` to `eos_token_id`:50256 for open-end generation.\n"
          ]
        },
        {
          "metadata": {
            "tags": null
          },
          "name": "stdout",
          "output_type": "stream",
          "text": [
            "  Batch 1,100  of  2,231. Loss: 0.11594859510660172.   Elapsed: 0:09:10.\n",
            "0:  openly# write a program to swap variable\n",
            " | a, b = 10\n",
            "a, b = 10\n",
            "print(a, b)\n",
            "\n",
            "\n"
          ]
        },
        {
          "metadata": {
            "tags": null
          },
          "name": "stderr",
          "output_type": "stream",
          "text": [
            "The attention mask and the pad token id were not set. As a consequence, you may observe unexpected behavior. Please pass your input's `attention_mask` to obtain reliable results.\n",
            "Setting `pad_token_id` to `eos_token_id`:50256 for open-end generation.\n"
          ]
        },
        {
          "metadata": {
            "tags": null
          },
          "name": "stdout",
          "output_type": "stream",
          "text": [
            "  Batch 1,200  of  2,231. Loss: 0.25126662850379944.   Elapsed: 0:10:00.\n",
            "0:  halted# write a python function to convert a dictionary value list to string and print the new list\n",
            " | def dict_to_string(d):\n",
            "    test_list = [{'end program' : (end + 1),    'is' : (int(d.values())}, {'best' : (int(d.values())}]\n",
            "    return list(test_list)\n",
            "\n",
            "\n",
            "\n"
          ]
        },
        {
          "metadata": {
            "tags": null
          },
          "name": "stderr",
          "output_type": "stream",
          "text": [
            "The attention mask and the pad token id were not set. As a consequence, you may observe unexpected behavior. Please pass your input's `attention_mask` to obtain reliable results.\n",
            "Setting `pad_token_id` to `eos_token_id`:50256 for open-end generation.\n"
          ]
        },
        {
          "metadata": {
            "tags": null
          },
          "name": "stdout",
          "output_type": "stream",
          "text": [
            "  Batch 1,300  of  2,231. Loss: 0.09477080404758453.   Elapsed: 0:10:50.\n",
            "0:  Nik# write a python function to find the area of a rectangle.\n",
            " | \n",
            "def rectangle_area(width, height):\n",
            "     return 2*(width+ height**2)\n",
            "\n",
            "\n"
          ]
        },
        {
          "metadata": {
            "tags": null
          },
          "name": "stderr",
          "output_type": "stream",
          "text": [
            "The attention mask and the pad token id were not set. As a consequence, you may observe unexpected behavior. Please pass your input's `attention_mask` to obtain reliable results.\n",
            "Setting `pad_token_id` to `eos_token_id`:50256 for open-end generation.\n"
          ]
        },
        {
          "metadata": {
            "tags": null
          },
          "name": "stdout",
          "output_type": "stream",
          "text": [
            "  Batch 1,400  of  2,231. Loss: 0.05494183674454689.   Elapsed: 0:11:40.\n",
            "0:  tin# write a function to calculate area of a cylinder\n",
            " | def cal_area_cylinder(height, radius):\n",
            "   pi=3.14\n",
            "   return 2*pi*radius\n",
            "\n",
            "\n"
          ]
        },
        {
          "metadata": {
            "tags": null
          },
          "name": "stderr",
          "output_type": "stream",
          "text": [
            "The attention mask and the pad token id were not set. As a consequence, you may observe unexpected behavior. Please pass your input's `attention_mask` to obtain reliable results.\n",
            "Setting `pad_token_id` to `eos_token_id`:50256 for open-end generation.\n"
          ]
        },
        {
          "metadata": {
            "tags": null
          },
          "name": "stdout",
          "output_type": "stream",
          "text": [
            "  Batch 1,500  of  2,231. Loss: 0.09957006573677063.   Elapsed: 0:12:30.\n",
            "0:  clinical# printing original tuples \n",
            " | print(\"the original tuple 1 : \" + str(test_tup1)) \n",
            "      \n",
            "\n"
          ]
        },
        {
          "metadata": {
            "tags": null
          },
          "name": "stderr",
          "output_type": "stream",
          "text": [
            "The attention mask and the pad token id were not set. As a consequence, you may observe unexpected behavior. Please pass your input's `attention_mask` to obtain reliable results.\n",
            "Setting `pad_token_id` to `eos_token_id`:50256 for open-end generation.\n"
          ]
        },
        {
          "metadata": {
            "tags": null
          },
          "name": "stdout",
          "output_type": "stream",
          "text": [
            "  Batch 1,600  of  2,231. Loss: 0.1481553167104721.   Elapsed: 0:13:19.\n",
            "0: lections# write a python program to check a dictionary value is present in a dictionary and print it\n",
            " | \n",
            "def check_dict(input_dict):\n",
            "     return list(input_dict.get(value)=={\"a\": 1, \"b\": 2, \"c\": 3},  \n",
            "               {\"d\": 'a'}, \n",
            "                {\"f\": \"f\" }\n",
            "  \n",
            "   return true\n",
            "\n",
            "\n"
          ]
        },
        {
          "metadata": {
            "tags": null
          },
          "name": "stderr",
          "output_type": "stream",
          "text": [
            "The attention mask and the pad token id were not set. As a consequence, you may observe unexpected behavior. Please pass your input's `attention_mask` to obtain reliable results.\n",
            "Setting `pad_token_id` to `eos_token_id`:50256 for open-end generation.\n"
          ]
        },
        {
          "metadata": {
            "tags": null
          },
          "name": "stdout",
          "output_type": "stream",
          "text": [
            "  Batch 1,700  of  2,231. Loss: 0.02850925922393799.   Elapsed: 0:14:10.\n",
            "0: els# driver code in python\n",
            " | def driver(n):\n",
            "    if n == 0:\n",
            "        return 0\n",
            "     else:\n",
            "          return n + 1\n",
            "\t\t\n",
            "\t\t\n",
            "\n"
          ]
        },
        {
          "metadata": {
            "tags": null
          },
          "name": "stderr",
          "output_type": "stream",
          "text": [
            "The attention mask and the pad token id were not set. As a consequence, you may observe unexpected behavior. Please pass your input's `attention_mask` to obtain reliable results.\n",
            "Setting `pad_token_id` to `eos_token_id`:50256 for open-end generation.\n"
          ]
        },
        {
          "metadata": {
            "tags": null
          },
          "name": "stdout",
          "output_type": "stream",
          "text": [
            "  Batch 1,800  of  2,231. Loss: 0.051676370203495026.   Elapsed: 0:15:00.\n",
            "0: lab#write a python program to print the number of letters and digits of a given string\n",
            " | \n",
            "s=input(\"enter a string: \")\n",
            "dig=dig(s.split(' '))\n",
            "\n",
            "for i in s:\n",
            "    if(i==dig):\n",
            "       break\n",
            "\n",
            "print(f'dig: {s}')\n",
            "\n",
            "\n",
            "\n"
          ]
        },
        {
          "metadata": {
            "tags": null
          },
          "name": "stderr",
          "output_type": "stream",
          "text": [
            "The attention mask and the pad token id were not set. As a consequence, you may observe unexpected behavior. Please pass your input's `attention_mask` to obtain reliable results.\n",
            "Setting `pad_token_id` to `eos_token_id`:50256 for open-end generation.\n"
          ]
        },
        {
          "metadata": {
            "tags": null
          },
          "name": "stdout",
          "output_type": "stream",
          "text": [
            "  Batch 1,900  of  2,231. Loss: 0.08538360148668289.   Elapsed: 0:15:50.\n",
            "0:  triple# write a python function to convert a list of dictionaries to lists and return the list of values\n",
            " | def convert_list_to_values(list_of_values):\n",
            "   return list([1, 2, 1, 3, 3, 1, 4, 1, 2, 1]\n",
            "\n",
            "\n",
            "\n"
          ]
        },
        {
          "metadata": {
            "tags": null
          },
          "name": "stderr",
          "output_type": "stream",
          "text": [
            "The attention mask and the pad token id were not set. As a consequence, you may observe unexpected behavior. Please pass your input's `attention_mask` to obtain reliable results.\n",
            "Setting `pad_token_id` to `eos_token_id`:50256 for open-end generation.\n"
          ]
        },
        {
          "metadata": {
            "tags": null
          },
          "name": "stdout",
          "output_type": "stream",
          "text": [
            "  Batch 2,000  of  2,231. Loss: 0.12654007971286774.   Elapsed: 0:16:40.\n",
            "0: 220# write a python function to remove empty list from a list of lists using filter function.\n",
            " | \n",
            "def remove_emptylist(list_of_list_list:list_of_list_list):\n",
            "    return filter(lambda ele: ele[::-1]) == filter(lambda ele: ele[::-1]) == filter(lambda ele: ele[::-1]) == filter(lambda ele: ele[::-1]) == filter(lambda ele: ele[::-1]) == list_of_list_list_list_list_list_list.\n",
            "\n",
            "\n"
          ]
        },
        {
          "metadata": {
            "tags": null
          },
          "name": "stderr",
          "output_type": "stream",
          "text": [
            "The attention mask and the pad token id were not set. As a consequence, you may observe unexpected behavior. Please pass your input's `attention_mask` to obtain reliable results.\n",
            "Setting `pad_token_id` to `eos_token_id`:50256 for open-end generation.\n"
          ]
        },
        {
          "metadata": {
            "tags": null
          },
          "name": "stdout",
          "output_type": "stream",
          "text": [
            "  Batch 2,100  of  2,231. Loss: 0.03334340825676918.   Elapsed: 0:17:30.\n",
            "0:  See# write a python program to implement binary search without recursion and print the key element if found\n",
            " | \n",
            "def binary_search(alist, key):\n",
            "    \"\"\"search key in alist. \"\"\"\n",
            "    if key in alist:\n",
            "        return key\n",
            " \n",
            "alist = [2, 3, 5, 6, 7, 8]\n",
            "\n",
            "if not alist:\n",
            "    print('[0-9-1-1]', end='')\n",
            "else:\n",
            "     print('[0-5-1]', end='')\n",
            "\n",
            "\n"
          ]
        },
        {
          "metadata": {
            "tags": null
          },
          "name": "stderr",
          "output_type": "stream",
          "text": [
            "The attention mask and the pad token id were not set. As a consequence, you may observe unexpected behavior. Please pass your input's `attention_mask` to obtain reliable results.\n",
            "Setting `pad_token_id` to `eos_token_id`:50256 for open-end generation.\n"
          ]
        },
        {
          "metadata": {
            "tags": null
          },
          "name": "stdout",
          "output_type": "stream",
          "text": [
            "  Batch 2,200  of  2,231. Loss: 0.0835384801030159.   Elapsed: 0:18:21.\n",
            "0: @@# write a python function to remove tuples of length k  \n",
            " | def remove_tuple_(test_list:list): \n",
            "    t = list(test_list.strip()): \n",
            "    return t \n",
            "   \n",
            "    \n",
            "    if len(test_list) == k : \n",
            "       return (test_list.strip().split(' ')) \n",
            "    \n",
            "    t = list(test_list.strip().split(' ')) \n",
            "    return t  \n",
            "     \n",
            "   else: \n",
            "      raise valueerror('invalid input')\n",
            "\n",
            "\n",
            "\n",
            "  Average training loss: 0.11\n",
            "  Training epoch took: 0:18:38\n",
            "\n",
            "Running Validation...\n",
            "  Validation Loss: 0.12\n",
            "  Validation took: 0:00:39\n",
            "\n",
            "======== Epoch 4 / 5 ========\n",
            "Training...\n"
          ]
        },
        {
          "metadata": {
            "tags": null
          },
          "name": "stderr",
          "output_type": "stream",
          "text": [
            "The attention mask and the pad token id were not set. As a consequence, you may observe unexpected behavior. Please pass your input's `attention_mask` to obtain reliable results.\n",
            "Setting `pad_token_id` to `eos_token_id`:50256 for open-end generation.\n"
          ]
        },
        {
          "metadata": {
            "tags": null
          },
          "name": "stdout",
          "output_type": "stream",
          "text": [
            "  Batch   100  of  2,231. Loss: 0.026105130091309547.   Elapsed: 0:00:49.\n",
            "0:  host# write a python function to calculate lcm\n",
            " | def compute_lcm(x, y):\n",
            "   if x > y:\n",
            "      greater = x\n",
            "   else:\n",
            "      greater = y\n",
            "   while(true):\n",
            "      greater = greater/x\n",
            "      while(true):\n",
            "           if((greater % x == 0) and (greater % y == 0)):\n",
            "             lcm = greater\n",
            "           break\n",
            "     greater += 1\n",
            "\n",
            "    if((greater % x == 0) and (greater % y == 0)):\n",
            "       print(\"move disk 1 from left to right\", lcm)\n",
            "   else:\n",
            "   \n"
          ]
        },
        {
          "metadata": {
            "tags": null
          },
          "name": "stderr",
          "output_type": "stream",
          "text": [
            "The attention mask and the pad token id were not set. As a consequence, you may observe unexpected behavior. Please pass your input's `attention_mask` to obtain reliable results.\n",
            "Setting `pad_token_id` to `eos_token_id`:50256 for open-end generation.\n"
          ]
        },
        {
          "metadata": {
            "tags": null
          },
          "name": "stdout",
          "output_type": "stream",
          "text": [
            "  Batch   200  of  2,231. Loss: 0.06244303286075592.   Elapsed: 0:01:41.\n",
            "0: role# write a python program to find time for current date and time\n",
            " |   \n",
            "current_date = datetime.strptime(current_date)\n",
            "print(current_date)\n",
            "\n",
            "\n"
          ]
        },
        {
          "metadata": {
            "tags": null
          },
          "name": "stderr",
          "output_type": "stream",
          "text": [
            "The attention mask and the pad token id were not set. As a consequence, you may observe unexpected behavior. Please pass your input's `attention_mask` to obtain reliable results.\n",
            "Setting `pad_token_id` to `eos_token_id`:50256 for open-end generation.\n"
          ]
        },
        {
          "metadata": {
            "tags": null
          },
          "name": "stdout",
          "output_type": "stream",
          "text": [
            "  Batch   300  of  2,231. Loss: 0.15324485301971436.   Elapsed: 0:02:31.\n",
            "0: iac# in[81]:\n",
            " | \n",
            "\n",
            "\n"
          ]
        },
        {
          "metadata": {
            "tags": null
          },
          "name": "stderr",
          "output_type": "stream",
          "text": [
            "The attention mask and the pad token id were not set. As a consequence, you may observe unexpected behavior. Please pass your input's `attention_mask` to obtain reliable results.\n",
            "Setting `pad_token_id` to `eos_token_id`:50256 for open-end generation.\n"
          ]
        },
        {
          "metadata": {
            "tags": null
          },
          "name": "stdout",
          "output_type": "stream",
          "text": [
            "  Batch   400  of  2,231. Loss: 0.09983811527490616.   Elapsed: 0:03:20.\n",
            "0:  LD# write a python program to get all possible permutations of '1,2,3,4,5,6,7,8'\n",
            " | def permute_prob(n):\n",
            "    permutations = []\n",
            "    for i in range(n):\n",
            "          permutations.append([])\n",
            "    return [permutations]\n",
            "\n",
            "\n",
            "print(perms)\n",
            "\n",
            "\n"
          ]
        },
        {
          "metadata": {
            "tags": null
          },
          "name": "stderr",
          "output_type": "stream",
          "text": [
            "The attention mask and the pad token id were not set. As a consequence, you may observe unexpected behavior. Please pass your input's `attention_mask` to obtain reliable results.\n",
            "Setting `pad_token_id` to `eos_token_id`:50256 for open-end generation.\n"
          ]
        },
        {
          "metadata": {
            "tags": null
          },
          "name": "stdout",
          "output_type": "stream",
          "text": [
            "  Batch   500  of  2,231. Loss: 0.06217159703373909.   Elapsed: 0:04:10.\n",
            "0:  Listen# write a python program to sort dictionary by key-value summation and print the sorted dictionary\n",
            " | def sort_dict_by_key_value(d:dict, key:dict):\n",
            "    key = lambda x:len(x)\n",
            "    value = key.value()\n",
            "d.sort_dict_by_key(d.dict, key.value()))\n",
            "\n",
            "\n",
            "\n"
          ]
        },
        {
          "metadata": {
            "tags": null
          },
          "name": "stderr",
          "output_type": "stream",
          "text": [
            "The attention mask and the pad token id were not set. As a consequence, you may observe unexpected behavior. Please pass your input's `attention_mask` to obtain reliable results.\n",
            "Setting `pad_token_id` to `eos_token_id`:50256 for open-end generation.\n"
          ]
        },
        {
          "metadata": {
            "tags": null
          },
          "name": "stdout",
          "output_type": "stream",
          "text": [
            "  Batch   600  of  2,231. Loss: 0.22549283504486084.   Elapsed: 0:05:00.\n",
            "0:  dy# write a program to generate fibonacci series\n",
            " | n = 100\n",
            "a=[1,2,3]\n",
            "fibonacci series = a*b\n",
            "print(fibonacci series)\n",
            "\n",
            "\n"
          ]
        },
        {
          "metadata": {
            "tags": null
          },
          "name": "stderr",
          "output_type": "stream",
          "text": [
            "The attention mask and the pad token id were not set. As a consequence, you may observe unexpected behavior. Please pass your input's `attention_mask` to obtain reliable results.\n",
            "Setting `pad_token_id` to `eos_token_id`:50256 for open-end generation.\n"
          ]
        },
        {
          "metadata": {
            "tags": null
          },
          "name": "stdout",
          "output_type": "stream",
          "text": [
            "  Batch   700  of  2,231. Loss: 0.04656447097659111.   Elapsed: 0:05:50.\n",
            "0:  Domestic# write a python function to convert temperature  from fahrenheit to kelvin  \n",
            " |   \n",
            " def fahrenheit_to_kelvin(f): \n",
            "    if(f%3==0) and (f%4==0): \n",
            "       return (f%4)/5 \n",
            "    elif(f%3==0 and (f%4==0): \n",
            "       return (f%4)/5 \n",
            "    elif(f%4==0 and (f%4==0): \n",
            "        return (f%4)/5 \n",
            "    else: \n",
            "        return none\n",
            "\n",
            "\n"
          ]
        },
        {
          "metadata": {
            "tags": null
          },
          "name": "stderr",
          "output_type": "stream",
          "text": [
            "The attention mask and the pad token id were not set. As a consequence, you may observe unexpected behavior. Please pass your input's `attention_mask` to obtain reliable results.\n",
            "Setting `pad_token_id` to `eos_token_id`:50256 for open-end generation.\n"
          ]
        },
        {
          "metadata": {
            "tags": null
          },
          "name": "stdout",
          "output_type": "stream",
          "text": [
            "  Batch   800  of  2,231. Loss: 0.05769640579819679.   Elapsed: 0:06:41.\n",
            "0:  beneficiaries# write a python program to print sum of natural numbers upto n, where n is an argument\n",
            " | n = 3\n",
            "\n",
            "print(n)\n",
            "\n",
            "\n",
            "\n"
          ]
        },
        {
          "metadata": {
            "tags": null
          },
          "name": "stderr",
          "output_type": "stream",
          "text": [
            "The attention mask and the pad token id were not set. As a consequence, you may observe unexpected behavior. Please pass your input's `attention_mask` to obtain reliable results.\n",
            "Setting `pad_token_id` to `eos_token_id`:50256 for open-end generation.\n"
          ]
        },
        {
          "metadata": {
            "tags": null
          },
          "name": "stdout",
          "output_type": "stream",
          "text": [
            "  Batch   900  of  2,231. Loss: 0.13832524418830872.   Elapsed: 0:07:31.\n",
            "0:  Title# write a python function to check if given string has at least one letter and one number\n",
            " | \n",
            "def check(string): \n",
            "    l = string[ : 10] \n",
            "    sum = 0\n",
            "     for i in range(0, len(l)): \n",
            "           sum += l[i] \n",
            "    return true \n",
            "print (check(string)) \n",
            "\n",
            "\n"
          ]
        },
        {
          "metadata": {
            "tags": null
          },
          "name": "stderr",
          "output_type": "stream",
          "text": [
            "The attention mask and the pad token id were not set. As a consequence, you may observe unexpected behavior. Please pass your input's `attention_mask` to obtain reliable results.\n",
            "Setting `pad_token_id` to `eos_token_id`:50256 for open-end generation.\n"
          ]
        },
        {
          "metadata": {
            "tags": null
          },
          "name": "stdout",
          "output_type": "stream",
          "text": [
            "  Batch 1,000  of  2,231. Loss: 0.05174819007515907.   Elapsed: 0:08:21.\n",
            "0:  μ# write a python function for dice roll asking user for input to continue and randomly give an output.\n",
            " | \n",
            "import random\n",
            "\n",
            "\n",
            "def dice():\n",
            "    from random import randint\n",
            "    randint = '11'\n",
            "    import random\n",
            "\n",
            "    import os\n",
            "\n",
            "     return random.randint(random.randint(2,10),2,4))\n",
            "\n",
            "def dice():\n",
            "    import random\n",
            "\n",
            "    pass\n",
            "\n",
            "print(\"rolling the dice...\")\n",
            "for i in range(4):\n",
            "    dices = []\n",
            "    for j in range(6):\n",
            "        sum = random.randint(random.randint(random.randint(2,5),2,7),2,4)\n",
            "                 dices.append(i)\n"
          ]
        },
        {
          "metadata": {
            "tags": null
          },
          "name": "stderr",
          "output_type": "stream",
          "text": [
            "The attention mask and the pad token id were not set. As a consequence, you may observe unexpected behavior. Please pass your input's `attention_mask` to obtain reliable results.\n",
            "Setting `pad_token_id` to `eos_token_id`:50256 for open-end generation.\n"
          ]
        },
        {
          "metadata": {
            "tags": null
          },
          "name": "stdout",
          "output_type": "stream",
          "text": [
            "  Batch 1,100  of  2,231. Loss: 0.05750125274062157.   Elapsed: 0:09:12.\n",
            "0:  selling# write a python function to find the uncommon words from two strings.\n",
            " | def uncommonwords(str1, str2):\n",
            "\tres_set = {}\n",
            "\tfor word in str1.split():\n",
            "\tres_set.update(word)\n",
            "\treturn res_set\n",
            "\n",
            "\n"
          ]
        },
        {
          "metadata": {
            "tags": null
          },
          "name": "stderr",
          "output_type": "stream",
          "text": [
            "The attention mask and the pad token id were not set. As a consequence, you may observe unexpected behavior. Please pass your input's `attention_mask` to obtain reliable results.\n",
            "Setting `pad_token_id` to `eos_token_id`:50256 for open-end generation.\n"
          ]
        },
        {
          "metadata": {
            "tags": null
          },
          "name": "stdout",
          "output_type": "stream",
          "text": [
            "  Batch 1,200  of  2,231. Loss: 0.13776500523090363.   Elapsed: 0:10:02.\n",
            "0:  migrant# write a python program to add two integers without using the '+' operator in a list.\n",
            " | \n",
            "a=[2,3,4]\n",
            "b=2\n",
            "a+b=b\n",
            "\n",
            "\n"
          ]
        },
        {
          "metadata": {
            "tags": null
          },
          "name": "stderr",
          "output_type": "stream",
          "text": [
            "The attention mask and the pad token id were not set. As a consequence, you may observe unexpected behavior. Please pass your input's `attention_mask` to obtain reliable results.\n",
            "Setting `pad_token_id` to `eos_token_id`:50256 for open-end generation.\n"
          ]
        },
        {
          "metadata": {
            "tags": null
          },
          "name": "stdout",
          "output_type": "stream",
          "text": [
            "  Batch 1,300  of  2,231. Loss: 0.07170932739973068.   Elapsed: 0:10:52.\n",
            "0: ively# write a python function to find the greatest common divisor (gcd) of two integers.\n",
            " | def recurgcd(a, b):\n",
            "   if b == 0:\n",
            "      return (a % b % a)\n",
            "   else:\n",
            "      return none\n",
            "\n",
            "\n"
          ]
        },
        {
          "metadata": {
            "tags": null
          },
          "name": "stderr",
          "output_type": "stream",
          "text": [
            "The attention mask and the pad token id were not set. As a consequence, you may observe unexpected behavior. Please pass your input's `attention_mask` to obtain reliable results.\n",
            "Setting `pad_token_id` to `eos_token_id`:50256 for open-end generation.\n"
          ]
        },
        {
          "metadata": {
            "tags": null
          },
          "name": "stdout",
          "output_type": "stream",
          "text": [
            "  Batch 1,400  of  2,231. Loss: 0.07175075262784958.   Elapsed: 0:11:42.\n",
            "0:  order# write a function to return the volume of a cuboid of length l, bredth b, height h\n",
            " | def cal_cuboid_volume(l,b,h):\n",
            "    return l*b*b\n",
            "\n",
            "\n"
          ]
        },
        {
          "metadata": {
            "tags": null
          },
          "name": "stderr",
          "output_type": "stream",
          "text": [
            "The attention mask and the pad token id were not set. As a consequence, you may observe unexpected behavior. Please pass your input's `attention_mask` to obtain reliable results.\n",
            "Setting `pad_token_id` to `eos_token_id`:50256 for open-end generation.\n"
          ]
        },
        {
          "metadata": {
            "tags": null
          },
          "name": "stdout",
          "output_type": "stream",
          "text": [
            "  Batch 1,500  of  2,231. Loss: 0.07811251282691956.   Elapsed: 0:12:32.\n",
            "0:  VPN#write a python program to print binary search without recursion\n",
            " | \n",
            "def bin_search(alist):\n",
            "    \"\"\"search key in alist[start... end - 1].\"\"\"\n",
            "    for j in range(1, len(alist)):\n",
            "         alist[j], alist[start... end - 1] = alist[j], alist[j]\n",
            "               index = j - 1\n",
            "             for j in range(i+1):\n",
            "                  if alist[j + 1] < alist[j]:\n",
            "                                alist\n"
          ]
        },
        {
          "metadata": {
            "tags": null
          },
          "name": "stderr",
          "output_type": "stream",
          "text": [
            "The attention mask and the pad token id were not set. As a consequence, you may observe unexpected behavior. Please pass your input's `attention_mask` to obtain reliable results.\n",
            "Setting `pad_token_id` to `eos_token_id`:50256 for open-end generation.\n"
          ]
        },
        {
          "metadata": {
            "tags": null
          },
          "name": "stdout",
          "output_type": "stream",
          "text": [
            "  Batch 1,600  of  2,231. Loss: 0.11945264786481857.   Elapsed: 0:13:23.\n",
            "0:  explanation# given a sorted integer array without duplicates, return the summary of its ranges.\n",
            " | input_array = [0]*(1)**len(input_array)\n",
            "\n",
            "\n"
          ]
        },
        {
          "metadata": {
            "tags": null
          },
          "name": "stderr",
          "output_type": "stream",
          "text": [
            "The attention mask and the pad token id were not set. As a consequence, you may observe unexpected behavior. Please pass your input's `attention_mask` to obtain reliable results.\n",
            "Setting `pad_token_id` to `eos_token_id`:50256 for open-end generation.\n"
          ]
        },
        {
          "metadata": {
            "tags": null
          },
          "name": "stdout",
          "output_type": "stream",
          "text": [
            "  Batch 1,700  of  2,231. Loss: 0.04063468426465988.   Elapsed: 0:14:13.\n",
            "0:  Bach# write a python program that asks user for input to make a simple equation\n",
            " | \n",
            "a = 1\n",
            "b = float('inf'), float('inf')\n",
            "a_diff = -b\n",
            "b_diff = -a- b\n",
            "if a_diff >= 0:\n",
            "    print(\"enter a number:\", end=\" \")\n",
            "else:\n",
            "    print(\"in a positive range:\", end=\" \")\n",
            "\n",
            "\n"
          ]
        },
        {
          "metadata": {
            "tags": null
          },
          "name": "stderr",
          "output_type": "stream",
          "text": [
            "The attention mask and the pad token id were not set. As a consequence, you may observe unexpected behavior. Please pass your input's `attention_mask` to obtain reliable results.\n",
            "Setting `pad_token_id` to `eos_token_id`:50256 for open-end generation.\n"
          ]
        },
        {
          "metadata": {
            "tags": null
          },
          "name": "stdout",
          "output_type": "stream",
          "text": [
            "  Batch 1,800  of  2,231. Loss: 0.027624232694506645.   Elapsed: 0:15:03.\n",
            "0:  folder# printing result  \n",
            " | print(\"incremented numeric strings : \" + str(res))\n",
            "\n",
            "\n",
            "\n"
          ]
        },
        {
          "metadata": {
            "tags": null
          },
          "name": "stderr",
          "output_type": "stream",
          "text": [
            "The attention mask and the pad token id were not set. As a consequence, you may observe unexpected behavior. Please pass your input's `attention_mask` to obtain reliable results.\n",
            "Setting `pad_token_id` to `eos_token_id`:50256 for open-end generation.\n"
          ]
        },
        {
          "metadata": {
            "tags": null
          },
          "name": "stdout",
          "output_type": "stream",
          "text": [
            "  Batch 1,900  of  2,231. Loss: 0.02472463622689247.   Elapsed: 0:15:53.\n",
            "0:  building# write a python program to add an element to a list\n",
            " | \n",
            "list1 = [10, 20, 30, 40, 50]\n",
            "list2 = list1 + list2 \n",
            "\n",
            "print(list2)\n",
            "\n",
            "\n"
          ]
        },
        {
          "metadata": {
            "tags": null
          },
          "name": "stderr",
          "output_type": "stream",
          "text": [
            "The attention mask and the pad token id were not set. As a consequence, you may observe unexpected behavior. Please pass your input's `attention_mask` to obtain reliable results.\n",
            "Setting `pad_token_id` to `eos_token_id`:50256 for open-end generation.\n"
          ]
        },
        {
          "metadata": {
            "tags": null
          },
          "name": "stdout",
          "output_type": "stream",
          "text": [
            "  Batch 2,000  of  2,231. Loss: 0.05709148570895195.   Elapsed: 0:16:42.\n",
            "0:  Babylon# write a python function that takes a number of lines as input and counts the number of each line\n",
            " | def count_lines(lines):\n",
            "    return len(lines)\n",
            "\n",
            "\n",
            "\n"
          ]
        },
        {
          "metadata": {
            "tags": null
          },
          "name": "stderr",
          "output_type": "stream",
          "text": [
            "The attention mask and the pad token id were not set. As a consequence, you may observe unexpected behavior. Please pass your input's `attention_mask` to obtain reliable results.\n",
            "Setting `pad_token_id` to `eos_token_id`:50256 for open-end generation.\n"
          ]
        },
        {
          "metadata": {
            "tags": null
          },
          "name": "stdout",
          "output_type": "stream",
          "text": [
            "  Batch 2,100  of  2,231. Loss: 0.10731413215398788.   Elapsed: 0:17:32.\n",
            "0: perial# write a program to convert binary to gray code\n",
            " | def binary_to_gray(n):\n",
            "    \"\"\"convert binary to gray codeword and return it.\"\"\"\n",
            "    if n == 0:\n",
            "        return bin(n)[::-1] + (n >> 2) + n[::-1])\n",
            "    else:\n",
            "       return (convert(n)[::-1]) + n[::-1])\n",
            "\n",
            "\n"
          ]
        },
        {
          "metadata": {
            "tags": null
          },
          "name": "stderr",
          "output_type": "stream",
          "text": [
            "The attention mask and the pad token id were not set. As a consequence, you may observe unexpected behavior. Please pass your input's `attention_mask` to obtain reliable results.\n",
            "Setting `pad_token_id` to `eos_token_id`:50256 for open-end generation.\n"
          ]
        },
        {
          "metadata": {
            "tags": null
          },
          "name": "stdout",
          "output_type": "stream",
          "text": [
            "  Batch 2,200  of  2,231. Loss: 0.053033217787742615.   Elapsed: 0:18:23.\n",
            "0:  rents# write a function to calculate the average time taken to perform any transaction by  function fn averaging the total time taken for transaction over repetations\n",
            " | def time_it(fn, *args, repetitons= 1, **kwargs):\n",
            "    import time\n",
            "    total_time = time.perf_counter()\n",
            "    if __name__ == \"__main__\":\n",
            "         total_time = []\n",
            "    for _ in range(repetitons):\n",
            "         time.append(time.strftime('%y-%m-%d %h:%m:%s')\n",
            "         total_time.append(_)\n",
            "     else:\n",
            "          total_time.append(time.strftime('%y-%m-%\n",
            "\n",
            "  Average training loss: 0.08\n",
            "  Training epoch took: 0:18:40\n",
            "\n",
            "Running Validation...\n",
            "  Validation Loss: 0.10\n",
            "  Validation took: 0:00:39\n",
            "\n",
            "======== Epoch 5 / 5 ========\n",
            "Training...\n"
          ]
        },
        {
          "metadata": {
            "tags": null
          },
          "name": "stderr",
          "output_type": "stream",
          "text": [
            "The attention mask and the pad token id were not set. As a consequence, you may observe unexpected behavior. Please pass your input's `attention_mask` to obtain reliable results.\n",
            "Setting `pad_token_id` to `eos_token_id`:50256 for open-end generation.\n"
          ]
        },
        {
          "metadata": {
            "tags": null
          },
          "name": "stdout",
          "output_type": "stream",
          "text": [
            "  Batch   100  of  2,231. Loss: 0.026908645406365395.   Elapsed: 0:00:49.\n",
            "0:  Reg# write a python program to extract tuples of length 1 from a list of tuples. print the extracted tuples.    \n",
            " |    \n",
            "test_list = [(4, 5, 9), (-3, 6, 10), (-3, 5, 3), (-3, 6), (4, 5, 7)] \n",
            "res = [(sub[1]: sub[1:]) for sub in test_list for key in test_list] \n",
            "  \n",
            "print(\"the extracted tuples : \" + str(res))\n",
            "\n",
            "\n"
          ]
        },
        {
          "metadata": {
            "tags": null
          },
          "name": "stderr",
          "output_type": "stream",
          "text": [
            "The attention mask and the pad token id were not set. As a consequence, you may observe unexpected behavior. Please pass your input's `attention_mask` to obtain reliable results.\n",
            "Setting `pad_token_id` to `eos_token_id`:50256 for open-end generation.\n"
          ]
        },
        {
          "metadata": {
            "tags": null
          },
          "name": "stdout",
          "output_type": "stream",
          "text": [
            "  Batch   200  of  2,231. Loss: 0.06987442821264267.   Elapsed: 0:01:40.\n",
            "0: olas# write a python program to generate a list of all unique elements in a list\n",
            " | input = [1,2,3]\n",
            "samplelist = []\n",
            "for i in range(len(input)):\n",
            "   for j in range(len(input)-i-1):\n",
            "        if((i % j == 0) and (input[j]) == 0):\n",
            "            samplelist.append(input[j])\n",
            "print(samplelist)\n",
            "\n",
            "\n"
          ]
        },
        {
          "metadata": {
            "tags": null
          },
          "name": "stderr",
          "output_type": "stream",
          "text": [
            "The attention mask and the pad token id were not set. As a consequence, you may observe unexpected behavior. Please pass your input's `attention_mask` to obtain reliable results.\n",
            "Setting `pad_token_id` to `eos_token_id`:50256 for open-end generation.\n"
          ]
        },
        {
          "metadata": {
            "tags": null
          },
          "name": "stdout",
          "output_type": "stream",
          "text": [
            "  Batch   300  of  2,231. Loss: 0.027332797646522522.   Elapsed: 0:02:30.\n",
            "0:  responses# write a python program to print the binary value of a decimal number\n",
            " | dec = 344\n",
            "\n",
            "print(\"binary value of\", dec, \" is:\")\n",
            "print(binary(dec), \" is:\")\n",
            "\n",
            "\n",
            "\n"
          ]
        },
        {
          "metadata": {
            "tags": null
          },
          "name": "stderr",
          "output_type": "stream",
          "text": [
            "The attention mask and the pad token id were not set. As a consequence, you may observe unexpected behavior. Please pass your input's `attention_mask` to obtain reliable results.\n",
            "Setting `pad_token_id` to `eos_token_id`:50256 for open-end generation.\n"
          ]
        },
        {
          "metadata": {
            "tags": null
          },
          "name": "stdout",
          "output_type": "stream",
          "text": [
            "  Batch   400  of  2,231. Loss: 0.11479006707668304.   Elapsed: 0:03:20.\n",
            "0:  attendance# write a python program to print a string in binary\n",
            " | print(\"yesterday = \", yesterday.strftime('%y-%d %h:%m:%p')\n",
            "\n",
            "\n"
          ]
        },
        {
          "metadata": {
            "tags": null
          },
          "name": "stderr",
          "output_type": "stream",
          "text": [
            "The attention mask and the pad token id were not set. As a consequence, you may observe unexpected behavior. Please pass your input's `attention_mask` to obtain reliable results.\n",
            "Setting `pad_token_id` to `eos_token_id`:50256 for open-end generation.\n"
          ]
        },
        {
          "metadata": {
            "tags": null
          },
          "name": "stdout",
          "output_type": "stream",
          "text": [
            "  Batch   500  of  2,231. Loss: 0.06297052651643753.   Elapsed: 0:04:10.\n",
            "0:  rigid# write a python function that takes in a string and returns it in lowercase\n",
            " | def print_lower(s):\n",
            "  return s.lower()\n",
            "\n",
            "\n",
            "\n"
          ]
        },
        {
          "metadata": {
            "tags": null
          },
          "name": "stderr",
          "output_type": "stream",
          "text": [
            "The attention mask and the pad token id were not set. As a consequence, you may observe unexpected behavior. Please pass your input's `attention_mask` to obtain reliable results.\n",
            "Setting `pad_token_id` to `eos_token_id`:50256 for open-end generation.\n"
          ]
        },
        {
          "metadata": {
            "tags": null
          },
          "name": "stdout",
          "output_type": "stream",
          "text": [
            "  Batch   600  of  2,231. Loss: 0.07158723473548889.   Elapsed: 0:04:59.\n",
            "0: gro# write a python program that adds elements of two lists\n",
            " | \n",
            "list1 = [1, 2, 3, 4]\n",
            "list2 = [5, 4, 3, 2, 1]\n",
            "sum_list = [a+b for a,b in zip(list1, list2)]\n",
            "print(f\"sum of two lists:{sum_list}\")\n",
            "\n",
            "\n"
          ]
        },
        {
          "metadata": {
            "tags": null
          },
          "name": "stderr",
          "output_type": "stream",
          "text": [
            "The attention mask and the pad token id were not set. As a consequence, you may observe unexpected behavior. Please pass your input's `attention_mask` to obtain reliable results.\n",
            "Setting `pad_token_id` to `eos_token_id`:50256 for open-end generation.\n"
          ]
        },
        {
          "metadata": {
            "tags": null
          },
          "name": "stdout",
          "output_type": "stream",
          "text": [
            "  Batch   700  of  2,231. Loss: 0.08140068501234055.   Elapsed: 0:05:49.\n",
            "0:  Gre# iterate through rows\n",
            " | for i in range(len(x)):\n",
            "  # iterate through columns\n",
            "   for j in range(len(x[0])):\n",
            "      result[j][i] = x[i][j]\n",
            "\n",
            "for r in result:\n",
            "  print(r)\n",
            "\n",
            "\n",
            "\n"
          ]
        },
        {
          "metadata": {
            "tags": null
          },
          "name": "stderr",
          "output_type": "stream",
          "text": [
            "The attention mask and the pad token id were not set. As a consequence, you may observe unexpected behavior. Please pass your input's `attention_mask` to obtain reliable results.\n",
            "Setting `pad_token_id` to `eos_token_id`:50256 for open-end generation.\n"
          ]
        },
        {
          "metadata": {
            "tags": null
          },
          "name": "stdout",
          "output_type": "stream",
          "text": [
            "  Batch   800  of  2,231. Loss: 0.11563535034656525.   Elapsed: 0:06:40.\n",
            "0: ura# generate  random number between 2 ranges\n",
            " | import random\n",
            "\n",
            "lower, upper = 2,5\n",
            "number = random.randint(lower, upper)\n",
            "print(\"generating a random number between\", number, \"and\", its cube)\n",
            "\n",
            "\n"
          ]
        },
        {
          "metadata": {
            "tags": null
          },
          "name": "stderr",
          "output_type": "stream",
          "text": [
            "The attention mask and the pad token id were not set. As a consequence, you may observe unexpected behavior. Please pass your input's `attention_mask` to obtain reliable results.\n",
            "Setting `pad_token_id` to `eos_token_id`:50256 for open-end generation.\n"
          ]
        },
        {
          "metadata": {
            "tags": null
          },
          "name": "stdout",
          "output_type": "stream",
          "text": [
            "  Batch   900  of  2,231. Loss: 0.047015152871608734.   Elapsed: 0:07:29.\n",
            "0:  2020# write a function to return the lateral surface area of a cylinder\n",
            " | def cal_cylinder_lat_surf_area(height,radius):\n",
            "    pi=3.14\n",
            "    return 2*pi*radius*height\n",
            "\n",
            "\n"
          ]
        },
        {
          "metadata": {
            "tags": null
          },
          "name": "stderr",
          "output_type": "stream",
          "text": [
            "The attention mask and the pad token id were not set. As a consequence, you may observe unexpected behavior. Please pass your input's `attention_mask` to obtain reliable results.\n",
            "Setting `pad_token_id` to `eos_token_id`:50256 for open-end generation.\n"
          ]
        },
        {
          "metadata": {
            "tags": null
          },
          "name": "stdout",
          "output_type": "stream",
          "text": [
            "  Batch 1,000  of  2,231. Loss: 0.07454726845026016.   Elapsed: 0:08:19.\n",
            "0:  charging# write a python program to check if a number is a perfect number\n",
            " | \n",
            "def perfect_no_check(num):\n",
            "    sum1 = 0\n",
            "    for i in range(1,num + 1):\n",
            "        sum1 = sum1 + i\n",
            "    return sum1\n",
            "\n",
            "\n"
          ]
        },
        {
          "metadata": {
            "tags": null
          },
          "name": "stderr",
          "output_type": "stream",
          "text": [
            "The attention mask and the pad token id were not set. As a consequence, you may observe unexpected behavior. Please pass your input's `attention_mask` to obtain reliable results.\n",
            "Setting `pad_token_id` to `eos_token_id`:50256 for open-end generation.\n"
          ]
        },
        {
          "metadata": {
            "tags": null
          },
          "name": "stdout",
          "output_type": "stream",
          "text": [
            "  Batch 1,100  of  2,231. Loss: 0.027883952483534813.   Elapsed: 0:09:09.\n",
            "0:  Sar# write a python function to calculate the geometric sum of the squares of the first two hundred natural numbers, if the square of the first two hundred is an even number, divide it by a given mean and standard deviation\n",
            " | def geometric_sum(x, y):\n",
            "    e = 0\n",
            "    while x**2 and y**2< e:\n",
            "        e += 1\n",
            "        y += 1\n",
            "    return e\n",
            "\n",
            "\n"
          ]
        },
        {
          "metadata": {
            "tags": null
          },
          "name": "stderr",
          "output_type": "stream",
          "text": [
            "The attention mask and the pad token id were not set. As a consequence, you may observe unexpected behavior. Please pass your input's `attention_mask` to obtain reliable results.\n",
            "Setting `pad_token_id` to `eos_token_id`:50256 for open-end generation.\n"
          ]
        },
        {
          "metadata": {
            "tags": null
          },
          "name": "stdout",
          "output_type": "stream",
          "text": [
            "  Batch 1,200  of  2,231. Loss: 0.058623313903808594.   Elapsed: 0:09:59.\n",
            "0:  Jas# write a python function to check if a triangle is valid for all angles\n",
            " | \n",
            "def all_validity(a, b):\n",
            "    return all(a+b for a,b in (a+b+c))\n",
            "\n",
            "\n"
          ]
        },
        {
          "output_type": "stream",
          "name": "stderr",
          "text": [
            "The attention mask and the pad token id were not set. As a consequence, you may observe unexpected behavior. Please pass your input's `attention_mask` to obtain reliable results.\n",
            "Setting `pad_token_id` to `eos_token_id`:50256 for open-end generation.\n"
          ]
        },
        {
          "output_type": "stream",
          "name": "stdout",
          "text": [
            "  Batch 1,300  of  2,231. Loss: 0.018667297437787056.   Elapsed: 0:10:49.\n",
            "0:  permit# write a python function to print the factorial of a number\n",
            " | def factorial(n):\n",
            "    if n == 1:\n",
            "         return n\n",
            "    else:\n",
            "         return n * factorial(n-1)\n",
            "\n",
            "factorial(7)\n",
            "\n",
            "\n",
            "\n"
          ]
        },
        {
          "output_type": "stream",
          "name": "stderr",
          "text": [
            "The attention mask and the pad token id were not set. As a consequence, you may observe unexpected behavior. Please pass your input's `attention_mask` to obtain reliable results.\n",
            "Setting `pad_token_id` to `eos_token_id`:50256 for open-end generation.\n"
          ]
        },
        {
          "output_type": "stream",
          "name": "stdout",
          "text": [
            "  Batch 1,400  of  2,231. Loss: 0.17547450959682465.   Elapsed: 0:11:39.\n",
            "0:  Administrator# write a python program to remove common elements from tuple list\n",
            " | from collections import counter\n",
            "l=[[1,2,3], [4,5,6], [7,8,9]]\n",
            "t=tuple(l)\n",
            "print(l)\n",
            "\n",
            "\n"
          ]
        },
        {
          "output_type": "stream",
          "name": "stderr",
          "text": [
            "The attention mask and the pad token id were not set. As a consequence, you may observe unexpected behavior. Please pass your input's `attention_mask` to obtain reliable results.\n",
            "Setting `pad_token_id` to `eos_token_id`:50256 for open-end generation.\n"
          ]
        },
        {
          "output_type": "stream",
          "name": "stdout",
          "text": [
            "  Batch 1,500  of  2,231. Loss: 0.059273749589920044.   Elapsed: 0:12:29.\n",
            "0:  EVENTS# write a python program to check whether a number is positive, negative or zero\n",
            " | num = 175\n",
            "if num > 0:\n",
            "   print(\"positive number\")\n",
            "elif num == 0:\n",
            "   print(\"zero\")\n",
            "else:\n",
            "   print(\"negative number\")\n",
            "\n",
            "\n",
            "\n"
          ]
        },
        {
          "output_type": "stream",
          "name": "stderr",
          "text": [
            "The attention mask and the pad token id were not set. As a consequence, you may observe unexpected behavior. Please pass your input's `attention_mask` to obtain reliable results.\n",
            "Setting `pad_token_id` to `eos_token_id`:50256 for open-end generation.\n"
          ]
        },
        {
          "output_type": "stream",
          "name": "stdout",
          "text": [
            "  Batch 1,600  of  2,231. Loss: 0.05363699048757553.   Elapsed: 0:13:19.\n",
            "0:  Mental# write a python function that accepts an integer as input and converts it into a string\n",
            " | def convertstring(n):\n",
            "    n = int(n, 2)\n",
            "    return ''.join(str(n))\n",
            "\n",
            "\n",
            "\n"
          ]
        },
        {
          "output_type": "stream",
          "name": "stderr",
          "text": [
            "The attention mask and the pad token id were not set. As a consequence, you may observe unexpected behavior. Please pass your input's `attention_mask` to obtain reliable results.\n",
            "Setting `pad_token_id` to `eos_token_id`:50256 for open-end generation.\n"
          ]
        },
        {
          "output_type": "stream",
          "name": "stdout",
          "text": [
            "  Batch 1,700  of  2,231. Loss: 0.060534123331308365.   Elapsed: 0:14:09.\n",
            "0: ids# write a python function that accepts a list of dictionaries and sorts it by a specified key\n",
            " | \n",
            "def sort_dict_list(dict_list, sort_key):\n",
            "  dict_list.sort(key=lambda x: (-x[1]//k) + key[1])\n",
            "\n",
            "print(sort_dict_list)\n",
            "\n",
            "\n"
          ]
        },
        {
          "output_type": "stream",
          "name": "stderr",
          "text": [
            "The attention mask and the pad token id were not set. As a consequence, you may observe unexpected behavior. Please pass your input's `attention_mask` to obtain reliable results.\n",
            "Setting `pad_token_id` to `eos_token_id`:50256 for open-end generation.\n"
          ]
        },
        {
          "output_type": "stream",
          "name": "stdout",
          "text": [
            "  Batch 1,800  of  2,231. Loss: 0.051640406250953674.   Elapsed: 0:14:59.\n",
            "0: ceans# write a program to randomly generate a list with 5 numbers, which are divisible by 5 and 7, between 1 and 1000 inclusive.\n",
            " | import random\n",
            "print(random.sample([i for i in range(1,1001) if i%5==0 and i%7==0], 5))\n",
            "\n",
            "\n"
          ]
        },
        {
          "output_type": "stream",
          "name": "stderr",
          "text": [
            "The attention mask and the pad token id were not set. As a consequence, you may observe unexpected behavior. Please pass your input's `attention_mask` to obtain reliable results.\n",
            "Setting `pad_token_id` to `eos_token_id`:50256 for open-end generation.\n"
          ]
        },
        {
          "output_type": "stream",
          "name": "stdout",
          "text": [
            "  Batch 1,900  of  2,231. Loss: 0.06254614144563675.   Elapsed: 0:15:49.\n",
            "0:  genetically# write a python program to extract words starting with vowel from a list of strings\n",
            " | \n",
            "s = ['a', 'e', 'i', 'o', 'u']\n",
            "k = 2\n",
            "res = [] \n",
            "vow = ['a', 'e', 'i', 'o', 'u']\n",
            "for v in s: \n",
            "    if v not in vow: \n",
            "        res.append(v)\n",
            "\n",
            "print(\"words starting with vowel : \" + str(res))\n",
            "\n",
            "\n"
          ]
        },
        {
          "output_type": "stream",
          "name": "stderr",
          "text": [
            "The attention mask and the pad token id were not set. As a consequence, you may observe unexpected behavior. Please pass your input's `attention_mask` to obtain reliable results.\n",
            "Setting `pad_token_id` to `eos_token_id`:50256 for open-end generation.\n"
          ]
        },
        {
          "output_type": "stream",
          "name": "stdout",
          "text": [
            "  Batch 2,000  of  2,231. Loss: 0.05196220427751541.   Elapsed: 0:16:39.\n",
            "0:  advice# write a python function that returns true if the sum of two provided numbers is even\n",
            " | def is_prod_even(num1, num2):\n",
            "  sum = num1 + num2\n",
            "  return not sum % 2\n",
            "\n",
            "\n",
            "\n"
          ]
        },
        {
          "output_type": "stream",
          "name": "stderr",
          "text": [
            "The attention mask and the pad token id were not set. As a consequence, you may observe unexpected behavior. Please pass your input's `attention_mask` to obtain reliable results.\n",
            "Setting `pad_token_id` to `eos_token_id`:50256 for open-end generation.\n"
          ]
        },
        {
          "output_type": "stream",
          "name": "stdout",
          "text": [
            "  Batch 2,100  of  2,231. Loss: 0.030109701678156853.   Elapsed: 0:17:29.\n",
            "0:  incomplete# iterate through rows of x\n",
            " | for i in range(len(x)):\n",
            "   # iterate through columns of y\n",
            "   for j in range(len(y[0])):\n",
            "       # iterate through rows of y\n",
            "       for k in range(len(y)):\n",
            "           result[i][j] += x[i][k] * y[k][j]\n",
            "print(f\"final result is{result}\")\n",
            "\n",
            "\n"
          ]
        },
        {
          "output_type": "stream",
          "name": "stderr",
          "text": [
            "The attention mask and the pad token id were not set. As a consequence, you may observe unexpected behavior. Please pass your input's `attention_mask` to obtain reliable results.\n",
            "Setting `pad_token_id` to `eos_token_id`:50256 for open-end generation.\n"
          ]
        },
        {
          "output_type": "stream",
          "name": "stdout",
          "text": [
            "  Batch 2,200  of  2,231. Loss: 0.02070428617298603.   Elapsed: 0:18:20.\n",
            "0: comment# printing original dictionary \n",
            " | print(\"the original dictionary is : \" + str(test_dict)) \n",
            "s=[]\n",
            "for sub in test_dict.items():\n",
            "    s.append(str(sub.get))\n",
            "print(s) \n",
            "\n",
            "\n",
            "\n",
            "  Average training loss: 0.05\n",
            "  Training epoch took: 0:18:35\n",
            "\n",
            "Running Validation...\n",
            "  Validation Loss: 0.10\n",
            "  Validation took: 0:00:39\n",
            "\n",
            "Training complete!\n",
            "Total training took 1:36:34 (h:mm:ss)\n"
          ]
        }
      ]
    },
    {
      "cell_type": "code",
      "source": [
        "model.save_pretrained('gpt2')"
      ],
      "metadata": {
        "id": "2dvUlZcgOrNz"
      },
      "execution_count": null,
      "outputs": []
    },
    {
      "cell_type": "code",
      "source": [
        "pd.set_option('precision', 2)\n",
        "\n",
        "df_stats = pd.DataFrame(data=training_stats)\n",
        "\n",
        "df_stats = df_stats.set_index('epoch')\n",
        "\n",
        "df_stats"
      ],
      "metadata": {
        "colab": {
          "base_uri": "https://localhost:8080/",
          "height": 237
        },
        "id": "H-6GRs5eOwMQ",
        "outputId": "3efedd76-3d21-42b9-eacc-fa475436e1c5"
      },
      "execution_count": null,
      "outputs": [
        {
          "output_type": "execute_result",
          "data": {
            "text/plain": [
              "       Training Loss  Valid. Loss Training Time Validation Time\n",
              "epoch                                                          \n",
              "1               0.26         0.15       0:18:48         0:00:39\n",
              "2               0.14         0.13       0:18:40         0:00:39\n",
              "3               0.11         0.12       0:18:38         0:00:39\n",
              "4               0.08         0.10       0:18:40         0:00:39\n",
              "5               0.05         0.10       0:18:35         0:00:39"
            ],
            "text/html": [
              "\n",
              "  <div id=\"df-94bd3600-9e12-409e-9edf-db9b9761d5b7\">\n",
              "    <div class=\"colab-df-container\">\n",
              "      <div>\n",
              "<style scoped>\n",
              "    .dataframe tbody tr th:only-of-type {\n",
              "        vertical-align: middle;\n",
              "    }\n",
              "\n",
              "    .dataframe tbody tr th {\n",
              "        vertical-align: top;\n",
              "    }\n",
              "\n",
              "    .dataframe thead th {\n",
              "        text-align: right;\n",
              "    }\n",
              "</style>\n",
              "<table border=\"1\" class=\"dataframe\">\n",
              "  <thead>\n",
              "    <tr style=\"text-align: right;\">\n",
              "      <th></th>\n",
              "      <th>Training Loss</th>\n",
              "      <th>Valid. Loss</th>\n",
              "      <th>Training Time</th>\n",
              "      <th>Validation Time</th>\n",
              "    </tr>\n",
              "    <tr>\n",
              "      <th>epoch</th>\n",
              "      <th></th>\n",
              "      <th></th>\n",
              "      <th></th>\n",
              "      <th></th>\n",
              "    </tr>\n",
              "  </thead>\n",
              "  <tbody>\n",
              "    <tr>\n",
              "      <th>1</th>\n",
              "      <td>0.26</td>\n",
              "      <td>0.15</td>\n",
              "      <td>0:18:48</td>\n",
              "      <td>0:00:39</td>\n",
              "    </tr>\n",
              "    <tr>\n",
              "      <th>2</th>\n",
              "      <td>0.14</td>\n",
              "      <td>0.13</td>\n",
              "      <td>0:18:40</td>\n",
              "      <td>0:00:39</td>\n",
              "    </tr>\n",
              "    <tr>\n",
              "      <th>3</th>\n",
              "      <td>0.11</td>\n",
              "      <td>0.12</td>\n",
              "      <td>0:18:38</td>\n",
              "      <td>0:00:39</td>\n",
              "    </tr>\n",
              "    <tr>\n",
              "      <th>4</th>\n",
              "      <td>0.08</td>\n",
              "      <td>0.10</td>\n",
              "      <td>0:18:40</td>\n",
              "      <td>0:00:39</td>\n",
              "    </tr>\n",
              "    <tr>\n",
              "      <th>5</th>\n",
              "      <td>0.05</td>\n",
              "      <td>0.10</td>\n",
              "      <td>0:18:35</td>\n",
              "      <td>0:00:39</td>\n",
              "    </tr>\n",
              "  </tbody>\n",
              "</table>\n",
              "</div>\n",
              "      <button class=\"colab-df-convert\" onclick=\"convertToInteractive('df-94bd3600-9e12-409e-9edf-db9b9761d5b7')\"\n",
              "              title=\"Convert this dataframe to an interactive table.\"\n",
              "              style=\"display:none;\">\n",
              "        \n",
              "  <svg xmlns=\"http://www.w3.org/2000/svg\" height=\"24px\"viewBox=\"0 0 24 24\"\n",
              "       width=\"24px\">\n",
              "    <path d=\"M0 0h24v24H0V0z\" fill=\"none\"/>\n",
              "    <path d=\"M18.56 5.44l.94 2.06.94-2.06 2.06-.94-2.06-.94-.94-2.06-.94 2.06-2.06.94zm-11 1L8.5 8.5l.94-2.06 2.06-.94-2.06-.94L8.5 2.5l-.94 2.06-2.06.94zm10 10l.94 2.06.94-2.06 2.06-.94-2.06-.94-.94-2.06-.94 2.06-2.06.94z\"/><path d=\"M17.41 7.96l-1.37-1.37c-.4-.4-.92-.59-1.43-.59-.52 0-1.04.2-1.43.59L10.3 9.45l-7.72 7.72c-.78.78-.78 2.05 0 2.83L4 21.41c.39.39.9.59 1.41.59.51 0 1.02-.2 1.41-.59l7.78-7.78 2.81-2.81c.8-.78.8-2.07 0-2.86zM5.41 20L4 18.59l7.72-7.72 1.47 1.35L5.41 20z\"/>\n",
              "  </svg>\n",
              "      </button>\n",
              "      \n",
              "  <style>\n",
              "    .colab-df-container {\n",
              "      display:flex;\n",
              "      flex-wrap:wrap;\n",
              "      gap: 12px;\n",
              "    }\n",
              "\n",
              "    .colab-df-convert {\n",
              "      background-color: #E8F0FE;\n",
              "      border: none;\n",
              "      border-radius: 50%;\n",
              "      cursor: pointer;\n",
              "      display: none;\n",
              "      fill: #1967D2;\n",
              "      height: 32px;\n",
              "      padding: 0 0 0 0;\n",
              "      width: 32px;\n",
              "    }\n",
              "\n",
              "    .colab-df-convert:hover {\n",
              "      background-color: #E2EBFA;\n",
              "      box-shadow: 0px 1px 2px rgba(60, 64, 67, 0.3), 0px 1px 3px 1px rgba(60, 64, 67, 0.15);\n",
              "      fill: #174EA6;\n",
              "    }\n",
              "\n",
              "    [theme=dark] .colab-df-convert {\n",
              "      background-color: #3B4455;\n",
              "      fill: #D2E3FC;\n",
              "    }\n",
              "\n",
              "    [theme=dark] .colab-df-convert:hover {\n",
              "      background-color: #434B5C;\n",
              "      box-shadow: 0px 1px 3px 1px rgba(0, 0, 0, 0.15);\n",
              "      filter: drop-shadow(0px 1px 2px rgba(0, 0, 0, 0.3));\n",
              "      fill: #FFFFFF;\n",
              "    }\n",
              "  </style>\n",
              "\n",
              "      <script>\n",
              "        const buttonEl =\n",
              "          document.querySelector('#df-94bd3600-9e12-409e-9edf-db9b9761d5b7 button.colab-df-convert');\n",
              "        buttonEl.style.display =\n",
              "          google.colab.kernel.accessAllowed ? 'block' : 'none';\n",
              "\n",
              "        async function convertToInteractive(key) {\n",
              "          const element = document.querySelector('#df-94bd3600-9e12-409e-9edf-db9b9761d5b7');\n",
              "          const dataTable =\n",
              "            await google.colab.kernel.invokeFunction('convertToInteractive',\n",
              "                                                     [key], {});\n",
              "          if (!dataTable) return;\n",
              "\n",
              "          const docLinkHtml = 'Like what you see? Visit the ' +\n",
              "            '<a target=\"_blank\" href=https://colab.research.google.com/notebooks/data_table.ipynb>data table notebook</a>'\n",
              "            + ' to learn more about interactive tables.';\n",
              "          element.innerHTML = '';\n",
              "          dataTable['output_type'] = 'display_data';\n",
              "          await google.colab.output.renderOutput(dataTable, element);\n",
              "          const docLink = document.createElement('div');\n",
              "          docLink.innerHTML = docLinkHtml;\n",
              "          element.appendChild(docLink);\n",
              "        }\n",
              "      </script>\n",
              "    </div>\n",
              "  </div>\n",
              "  "
            ]
          },
          "metadata": {},
          "execution_count": 28
        }
      ]
    },
    {
      "cell_type": "code",
      "source": [
        "sns.set(style='darkgrid')\n",
        "\n",
        "sns.set(font_scale=1.5)\n",
        "plt.rcParams[\"figure.figsize\"] = (12,6)\n",
        "\n",
        "\n",
        "plt.plot(df_stats['Training Loss'], 'b-o', label=\"Training\")\n",
        "plt.plot(df_stats['Valid. Loss'], 'g-o', label=\"Validation\")\n",
        "\n",
        "\n",
        "plt.title(\"Training & Validation Loss\")\n",
        "plt.xlabel(\"Epoch\")\n",
        "plt.ylabel(\"Loss\")\n",
        "plt.legend()\n",
        "plt.xticks([1, 2, 3, 4])\n",
        "\n",
        "plt.show()"
      ],
      "metadata": {
        "colab": {
          "base_uri": "https://localhost:8080/",
          "height": 427
        },
        "id": "aFYCjD1dO08C",
        "outputId": "07b822a7-d552-4100-9a57-f37f9ee0aa16"
      },
      "execution_count": null,
      "outputs": [
        {
          "output_type": "display_data",
          "data": {
            "text/plain": [
              "<Figure size 864x432 with 1 Axes>"
            ],
            "image/png": "[encoded data removed]"
          },
          "metadata": {}
        }
      ]
    },
    {
      "cell_type": "code",
      "source": [
        "tokenizer.encode('<SOS>')"
      ],
      "metadata": {
        "colab": {
          "base_uri": "https://localhost:8080/"
        },
        "id": "h-Zwmgga-XOT",
        "outputId": "07b4395a-e88b-4ce2-ffa7-e6584bc1a72d"
      },
      "execution_count": 41,
      "outputs": [
        {
          "output_type": "execute_result",
          "data": {
            "text/plain": [
              "[50257]"
            ]
          },
          "metadata": {},
          "execution_count": 41
        }
      ]
    },
    {
      "cell_type": "code",
      "source": [
        "prompt = \"<SOS> # write a function that sums two integers | \"\n",
        "\n",
        "encoding = tokenizer(prompt)#, truncation = True, padding = \"max_length\")\n",
        "input_ids = torch.tensor(encoding['input_ids']).to(device).unsqueeze(0)\n",
        "attention_mask = torch.tensor(encoding['attention_mask']).to(device).unsqueeze(0)\n",
        "\n",
        "bos = torch.tensor(tokenizer.encode('<SOS>')).to(device)\n",
        "eos = torch.tensor(tokenizer.encode('<EOS>')).to(device)\n",
        "pad = torch.tensor(tokenizer.encode('<PAD>')).to(device)\n",
        "\n",
        "sample_outputs = model.generate(\n",
        "                                input_ids = input_ids,\n",
        "                                attention_mask = attention_mask, \n",
        "                                bos_token_id=bos,\n",
        "                                eos_token_id=eos,\n",
        "                                pad_token_id=pad,\n",
        "                                do_sample=True,   \n",
        "                                top_k=50, \n",
        "                                max_length = 300,\n",
        "                                top_p=0.95, \n",
        "                                num_return_sequences=1\n",
        "                                )\n",
        "\n",
        "for i, sample_output in enumerate(sample_outputs):\n",
        "  print(\"{}: {}\\n\\n\".format(i, tokenizer.decode(sample_output, skip_special_tokens=True)))"
      ],
      "metadata": {
        "colab": {
          "base_uri": "https://localhost:8080/"
        },
        "id": "A-pTr8gA-7i8",
        "outputId": "2c42c9fc-ab99-4934-b54d-98d690d40ace"
      },
      "execution_count": 51,
      "outputs": [
        {
          "output_type": "stream",
          "name": "stdout",
          "text": [
            "0:  # write a function that sums two integers |         \n",
            "              \n",
            "      \n",
            "      \n",
            "      \n",
            "       \n",
            "    \n",
            "       \n",
            "      \n",
            "          \n",
            "       \n",
            "     \n",
            "        \n",
            "         \n",
            "         \n",
            "         \n",
            "        \n",
            "    \n",
            "      \n",
            "           \n",
            "      \n",
            "             \n",
            "         \n",
            "       \n",
            "         \n",
            "           \n",
            "                        \n",
            "             \n",
            "        \n",
            "          \n",
            "\n",
            "\n"
          ]
        }
      ]
    },
    {
      "cell_type": "code",
      "source": [
        "model.eval()\n",
        "\n",
        "prompt = \"<SOS> # write a function that sorts a list | \"\n",
        "\n",
        "generated = torch.tensor(tokenizer.encode(prompt)).unsqueeze(0)\n",
        "generated = generated.to(device)\n",
        "\n",
        "print(generated)\n",
        "\n",
        "sample_outputs = model.generate(\n",
        "                                generated, \n",
        "                                #bos_token_id=random.randint(1,30000),\n",
        "                                do_sample=True,   \n",
        "                                top_k=25, \n",
        "                                max_length = 300,\n",
        "                                top_p=0.95, \n",
        "                                num_return_sequences=1\n",
        "                                )\n",
        "\n",
        "for i, sample_output in enumerate(sample_outputs):\n",
        "  print(\"{}: {}\\n\\n\".format(i, tokenizer.decode(sample_output, skip_special_tokens=True)))"
      ],
      "metadata": {
        "colab": {
          "base_uri": "https://localhost:8080/"
        },
        "id": "4UgD8q61PJ7L",
        "outputId": "459ef4b7-a863-4c5c-b3b9-6a2cd275dd6f"
      },
      "execution_count": 31,
      "outputs": [
        {
          "output_type": "stream",
          "name": "stderr",
          "text": [
            "The attention mask and the pad token id were not set. As a consequence, you may observe unexpected behavior. Please pass your input's `attention_mask` to obtain reliable results.\n",
            "Setting `pad_token_id` to `eos_token_id`:50256 for open-end generation.\n"
          ]
        },
        {
          "output_type": "stream",
          "name": "stdout",
          "text": [
            "tensor([[50257,     2,  3551,   257,  2163,   326, 10524,   257,  1351,   930,\n",
            "           220]], device='cuda:0')\n",
            "0: # write a function that sorts a list | --------------------------- print a list of integers and integers\n",
            "# print the list of integers and integers\n",
            "# print the list of integers and integers\n",
            "# print the list of integers and integers\n",
            "# print the list of integers and integers\n",
            "# print the list\n",
            "\n",
            "\n"
          ]
        }
      ]
    },
    {
      "cell_type": "code",
      "source": [],
      "metadata": {
        "id": "JN-IrYAqlhAd"
      },
      "execution_count": null,
      "outputs": []
    }
  ]
}